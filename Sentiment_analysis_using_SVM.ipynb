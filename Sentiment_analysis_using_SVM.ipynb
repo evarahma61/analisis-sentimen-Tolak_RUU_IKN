{
  "nbformat": 4,
  "nbformat_minor": 0,
  "metadata": {
    "colab": {
      "name": "Sentiment analysis using SVM.ipynb",
      "provenance": [],
      "authorship_tag": "ABX9TyORsnGmbDoiStcD59uYB7o+",
      "include_colab_link": true
    },
    "kernelspec": {
      "name": "python3",
      "display_name": "Python 3"
    },
    "language_info": {
      "name": "python"
    }
  },
  "cells": [
    {
      "cell_type": "markdown",
      "metadata": {
        "id": "view-in-github",
        "colab_type": "text"
      },
      "source": [
        "<a href=\"https://colab.research.google.com/github/evarahma61/analisis-sentimen-Tolak_RUU_IKN/blob/main/Sentiment_analysis_using_SVM.ipynb\" target=\"_parent\"><img src=\"https://colab.research.google.com/assets/colab-badge.svg\" alt=\"Open In Colab\"/></a>"
      ]
    },
    {
      "cell_type": "markdown",
      "metadata": {
        "id": "1qwA64iZJX17"
      },
      "source": [
        "<h1><b> Analisis Sentimen Menggunakan SVM"
      ]
    },
    {
      "cell_type": "markdown",
      "metadata": {
        "id": "HfUyTA1UJn7W"
      },
      "source": [
        "Langkah - langkah : \n",
        "Data preprocessing steps\n",
        "1. Cleaning the text\n",
        "2. Tokenization\n",
        "3. Enrichment - POS tagging\n",
        "4. Stopwords removal\n",
        "5. Obtaining the stem words\n",
        "6. Pelabelan Data menggunakan metode Lexicon (Textblob)\n",
        "7. Split data training & data testing\n",
        "8. Pembobotan : TF-IDF\n",
        "9. SVM Model\n",
        "10. Evaluasi hasil pengujian"
      ]
    },
    {
      "cell_type": "markdown",
      "metadata": {
        "id": "_gQMQG1TKZ3X"
      },
      "source": [
        "<h3><b> Import Dataset"
      ]
    },
    {
      "cell_type": "markdown",
      "metadata": {
        "id": "-E1wTaw2KhMI"
      },
      "source": [
        "Mengimport data yang telah di crawling melalui twitter dengan menggunakan library python twint, dengan tagar #TolakRUU_IKN"
      ]
    },
    {
      "cell_type": "code",
      "metadata": {
        "colab": {
          "base_uri": "https://localhost:8080/",
          "height": 400
        },
        "id": "fBjXurfzBT91",
        "outputId": "fef16213-7a25-4854-9d0d-b9bc992cb39d"
      },
      "source": [
        "import pandas as pd\n",
        "# Creating a pandas dataframe from reviews.txt file\n",
        "data = pd.read_csv('18102011_EVA RAHMA INDRIYANI_A.csv')\n",
        "data.head()\n"
      ],
      "execution_count": null,
      "outputs": [
        {
          "output_type": "execute_result",
          "data": {
            "text/html": [
              "<div>\n",
              "<style scoped>\n",
              "    .dataframe tbody tr th:only-of-type {\n",
              "        vertical-align: middle;\n",
              "    }\n",
              "\n",
              "    .dataframe tbody tr th {\n",
              "        vertical-align: top;\n",
              "    }\n",
              "\n",
              "    .dataframe thead th {\n",
              "        text-align: right;\n",
              "    }\n",
              "</style>\n",
              "<table border=\"1\" class=\"dataframe\">\n",
              "  <thead>\n",
              "    <tr style=\"text-align: right;\">\n",
              "      <th></th>\n",
              "      <th>id</th>\n",
              "      <th>conversation_id</th>\n",
              "      <th>created_at</th>\n",
              "      <th>date</th>\n",
              "      <th>time</th>\n",
              "      <th>timezone</th>\n",
              "      <th>user_id</th>\n",
              "      <th>username</th>\n",
              "      <th>name</th>\n",
              "      <th>place</th>\n",
              "      <th>tweet</th>\n",
              "      <th>language</th>\n",
              "      <th>mentions</th>\n",
              "      <th>urls</th>\n",
              "      <th>photos</th>\n",
              "      <th>replies_count</th>\n",
              "      <th>retweets_count</th>\n",
              "      <th>likes_count</th>\n",
              "      <th>hashtags</th>\n",
              "      <th>cashtags</th>\n",
              "      <th>link</th>\n",
              "      <th>retweet</th>\n",
              "      <th>quote_url</th>\n",
              "      <th>video</th>\n",
              "      <th>thumbnail</th>\n",
              "      <th>near</th>\n",
              "      <th>geo</th>\n",
              "      <th>source</th>\n",
              "      <th>user_rt_id</th>\n",
              "      <th>user_rt</th>\n",
              "      <th>retweet_id</th>\n",
              "      <th>reply_to</th>\n",
              "      <th>retweet_date</th>\n",
              "      <th>translate</th>\n",
              "      <th>trans_src</th>\n",
              "      <th>trans_dest</th>\n",
              "    </tr>\n",
              "  </thead>\n",
              "  <tbody>\n",
              "    <tr>\n",
              "      <th>0</th>\n",
              "      <td>1448294529149259776</td>\n",
              "      <td>1448294529149259776</td>\n",
              "      <td>2021-10-13 14:28:18 UTC</td>\n",
              "      <td>2021-10-13</td>\n",
              "      <td>14:28:18</td>\n",
              "      <td>0</td>\n",
              "      <td>907415343299096577</td>\n",
              "      <td>latarterkemban4</td>\n",
              "      <td>LatarNanggroe</td>\n",
              "      <td>NaN</td>\n",
              "      <td>#tolakruu_ikn  https://t.co/TSsynqbBFM</td>\n",
              "      <td>und</td>\n",
              "      <td>[]</td>\n",
              "      <td>[]</td>\n",
              "      <td>['https://pbs.twimg.com/media/FBlgDmcUYAQVlBx....</td>\n",
              "      <td>0</td>\n",
              "      <td>0</td>\n",
              "      <td>3</td>\n",
              "      <td>['tolakruu_ikn']</td>\n",
              "      <td>[]</td>\n",
              "      <td>https://twitter.com/latarterkemban4/status/144...</td>\n",
              "      <td>False</td>\n",
              "      <td>NaN</td>\n",
              "      <td>1</td>\n",
              "      <td>https://pbs.twimg.com/media/FBlgDmcUYAQVlBx.jpg</td>\n",
              "      <td>NaN</td>\n",
              "      <td>NaN</td>\n",
              "      <td>NaN</td>\n",
              "      <td>NaN</td>\n",
              "      <td>NaN</td>\n",
              "      <td>NaN</td>\n",
              "      <td>[]</td>\n",
              "      <td>NaN</td>\n",
              "      <td>NaN</td>\n",
              "      <td>NaN</td>\n",
              "      <td>NaN</td>\n",
              "    </tr>\n",
              "    <tr>\n",
              "      <th>1</th>\n",
              "      <td>1447909667372367874</td>\n",
              "      <td>1447909667372367874</td>\n",
              "      <td>2021-10-12 12:59:00 UTC</td>\n",
              "      <td>2021-10-12</td>\n",
              "      <td>12:59:00</td>\n",
              "      <td>0</td>\n",
              "      <td>1273301834690473985</td>\n",
              "      <td>ratu_tagar</td>\n",
              "      <td>👑Rätû_TågªRحسن المرضية🛡</td>\n",
              "      <td>NaN</td>\n",
              "      <td>Jika sumber daya manusia di suatu negara berku...</td>\n",
              "      <td>in</td>\n",
              "      <td>[]</td>\n",
              "      <td>[]</td>\n",
              "      <td>[]</td>\n",
              "      <td>0</td>\n",
              "      <td>0</td>\n",
              "      <td>2</td>\n",
              "      <td>['tolakruu_ikn']</td>\n",
              "      <td>[]</td>\n",
              "      <td>https://twitter.com/Ratu_Tagar/status/14479096...</td>\n",
              "      <td>False</td>\n",
              "      <td>NaN</td>\n",
              "      <td>0</td>\n",
              "      <td>NaN</td>\n",
              "      <td>NaN</td>\n",
              "      <td>NaN</td>\n",
              "      <td>NaN</td>\n",
              "      <td>NaN</td>\n",
              "      <td>NaN</td>\n",
              "      <td>NaN</td>\n",
              "      <td>[]</td>\n",
              "      <td>NaN</td>\n",
              "      <td>NaN</td>\n",
              "      <td>NaN</td>\n",
              "      <td>NaN</td>\n",
              "    </tr>\n",
              "    <tr>\n",
              "      <th>2</th>\n",
              "      <td>1446840579787087873</td>\n",
              "      <td>1446840579787087873</td>\n",
              "      <td>2021-10-09 14:10:49 UTC</td>\n",
              "      <td>2021-10-09</td>\n",
              "      <td>14:10:49</td>\n",
              "      <td>0</td>\n",
              "      <td>907415343299096577</td>\n",
              "      <td>latarterkemban4</td>\n",
              "      <td>LatarNanggroe</td>\n",
              "      <td>NaN</td>\n",
              "      <td>#TolakRUU_IKN  https://t.co/inISfLLuRe</td>\n",
              "      <td>und</td>\n",
              "      <td>[]</td>\n",
              "      <td>[]</td>\n",
              "      <td>['https://pbs.twimg.com/media/FBQ1ylyUUAc8Bej....</td>\n",
              "      <td>0</td>\n",
              "      <td>0</td>\n",
              "      <td>2</td>\n",
              "      <td>['tolakruu_ikn']</td>\n",
              "      <td>[]</td>\n",
              "      <td>https://twitter.com/latarterkemban4/status/144...</td>\n",
              "      <td>False</td>\n",
              "      <td>NaN</td>\n",
              "      <td>1</td>\n",
              "      <td>https://pbs.twimg.com/media/FBQ1ylyUUAc8Bej.jpg</td>\n",
              "      <td>NaN</td>\n",
              "      <td>NaN</td>\n",
              "      <td>NaN</td>\n",
              "      <td>NaN</td>\n",
              "      <td>NaN</td>\n",
              "      <td>NaN</td>\n",
              "      <td>[]</td>\n",
              "      <td>NaN</td>\n",
              "      <td>NaN</td>\n",
              "      <td>NaN</td>\n",
              "      <td>NaN</td>\n",
              "    </tr>\n",
              "    <tr>\n",
              "      <th>3</th>\n",
              "      <td>1446743096973086721</td>\n",
              "      <td>1446743096973086721</td>\n",
              "      <td>2021-10-09 07:43:28 UTC</td>\n",
              "      <td>2021-10-09</td>\n",
              "      <td>07:43:28</td>\n",
              "      <td>0</td>\n",
              "      <td>40423170</td>\n",
              "      <td>miyoels</td>\n",
              "      <td>miyoeL's</td>\n",
              "      <td>NaN</td>\n",
              "      <td>Saya perhatiin, kalo kita googling tentang doa...</td>\n",
              "      <td>in</td>\n",
              "      <td>[]</td>\n",
              "      <td>[]</td>\n",
              "      <td>[]</td>\n",
              "      <td>0</td>\n",
              "      <td>0</td>\n",
              "      <td>1</td>\n",
              "      <td>['tolakruu_ikn', 'tolakruu_ikn']</td>\n",
              "      <td>[]</td>\n",
              "      <td>https://twitter.com/miyoels/status/14467430969...</td>\n",
              "      <td>False</td>\n",
              "      <td>NaN</td>\n",
              "      <td>0</td>\n",
              "      <td>NaN</td>\n",
              "      <td>NaN</td>\n",
              "      <td>NaN</td>\n",
              "      <td>NaN</td>\n",
              "      <td>NaN</td>\n",
              "      <td>NaN</td>\n",
              "      <td>NaN</td>\n",
              "      <td>[]</td>\n",
              "      <td>NaN</td>\n",
              "      <td>NaN</td>\n",
              "      <td>NaN</td>\n",
              "      <td>NaN</td>\n",
              "    </tr>\n",
              "    <tr>\n",
              "      <th>4</th>\n",
              "      <td>1446685463767498760</td>\n",
              "      <td>1399725334182912008</td>\n",
              "      <td>2021-10-09 03:54:27 UTC</td>\n",
              "      <td>2021-10-09</td>\n",
              "      <td>03:54:27</td>\n",
              "      <td>0</td>\n",
              "      <td>1101090936115716096</td>\n",
              "      <td>inyongbralink</td>\n",
              "      <td>inyong</td>\n",
              "      <td>NaN</td>\n",
              "      <td>@kusmayadi2409 @c1nt4_2l2 @wierboy @BunnyPosit...</td>\n",
              "      <td>in</td>\n",
              "      <td>[]</td>\n",
              "      <td>[]</td>\n",
              "      <td>[]</td>\n",
              "      <td>0</td>\n",
              "      <td>0</td>\n",
              "      <td>0</td>\n",
              "      <td>['tolakruu_ikn']</td>\n",
              "      <td>[]</td>\n",
              "      <td>https://twitter.com/inyongbralink/status/14466...</td>\n",
              "      <td>False</td>\n",
              "      <td>NaN</td>\n",
              "      <td>0</td>\n",
              "      <td>NaN</td>\n",
              "      <td>NaN</td>\n",
              "      <td>NaN</td>\n",
              "      <td>NaN</td>\n",
              "      <td>NaN</td>\n",
              "      <td>NaN</td>\n",
              "      <td>NaN</td>\n",
              "      <td>[{'screen_name': 'kusmayadi2409', 'name': '🏹mi...</td>\n",
              "      <td>NaN</td>\n",
              "      <td>NaN</td>\n",
              "      <td>NaN</td>\n",
              "      <td>NaN</td>\n",
              "    </tr>\n",
              "  </tbody>\n",
              "</table>\n",
              "</div>"
            ],
            "text/plain": [
              "                    id      conversation_id  ... trans_src trans_dest\n",
              "0  1448294529149259776  1448294529149259776  ...       NaN        NaN\n",
              "1  1447909667372367874  1447909667372367874  ...       NaN        NaN\n",
              "2  1446840579787087873  1446840579787087873  ...       NaN        NaN\n",
              "3  1446743096973086721  1446743096973086721  ...       NaN        NaN\n",
              "4  1446685463767498760  1399725334182912008  ...       NaN        NaN\n",
              "\n",
              "[5 rows x 36 columns]"
            ]
          },
          "metadata": {},
          "execution_count": 1
        }
      ]
    },
    {
      "cell_type": "markdown",
      "metadata": {
        "id": "ejMeR_r_Knmw"
      },
      "source": [
        "Drop kolom yang tidak diperlukan, kolom-kolom selain kolom tweet tidak dibutuhkan dalam analisis sentimen"
      ]
    },
    {
      "cell_type": "code",
      "metadata": {
        "colab": {
          "base_uri": "https://localhost:8080/",
          "height": 206
        },
        "id": "JYkXjpnZDv-a",
        "outputId": "462dc8ad-bc83-4c0e-a710-32e8e2c011a7"
      },
      "source": [
        "mydata = data.drop(['username','user_id','id','conversation_id','created_at','date','time','timezone',\n",
        "                    'name','place','language','mentions','urls','photos','replies_count',\n",
        "                    'retweets_count','likes_count','hashtags','cashtags','link','retweet',\n",
        "                    'quote_url','video','thumbnail','near','geo','source','user_rt','retweet_id',\n",
        "                    'reply_to','retweet_date','translate','trans_src','trans_dest','user_rt_id','username'], axis=1)\n",
        "mydata.head()\n"
      ],
      "execution_count": null,
      "outputs": [
        {
          "output_type": "execute_result",
          "data": {
            "text/html": [
              "<div>\n",
              "<style scoped>\n",
              "    .dataframe tbody tr th:only-of-type {\n",
              "        vertical-align: middle;\n",
              "    }\n",
              "\n",
              "    .dataframe tbody tr th {\n",
              "        vertical-align: top;\n",
              "    }\n",
              "\n",
              "    .dataframe thead th {\n",
              "        text-align: right;\n",
              "    }\n",
              "</style>\n",
              "<table border=\"1\" class=\"dataframe\">\n",
              "  <thead>\n",
              "    <tr style=\"text-align: right;\">\n",
              "      <th></th>\n",
              "      <th>tweet</th>\n",
              "    </tr>\n",
              "  </thead>\n",
              "  <tbody>\n",
              "    <tr>\n",
              "      <th>0</th>\n",
              "      <td>#tolakruu_ikn  https://t.co/TSsynqbBFM</td>\n",
              "    </tr>\n",
              "    <tr>\n",
              "      <th>1</th>\n",
              "      <td>Jika sumber daya manusia di suatu negara berku...</td>\n",
              "    </tr>\n",
              "    <tr>\n",
              "      <th>2</th>\n",
              "      <td>#TolakRUU_IKN  https://t.co/inISfLLuRe</td>\n",
              "    </tr>\n",
              "    <tr>\n",
              "      <th>3</th>\n",
              "      <td>Saya perhatiin, kalo kita googling tentang doa...</td>\n",
              "    </tr>\n",
              "    <tr>\n",
              "      <th>4</th>\n",
              "      <td>@kusmayadi2409 @c1nt4_2l2 @wierboy @BunnyPosit...</td>\n",
              "    </tr>\n",
              "  </tbody>\n",
              "</table>\n",
              "</div>"
            ],
            "text/plain": [
              "                                               tweet\n",
              "0             #tolakruu_ikn  https://t.co/TSsynqbBFM\n",
              "1  Jika sumber daya manusia di suatu negara berku...\n",
              "2             #TolakRUU_IKN  https://t.co/inISfLLuRe\n",
              "3  Saya perhatiin, kalo kita googling tentang doa...\n",
              "4  @kusmayadi2409 @c1nt4_2l2 @wierboy @BunnyPosit..."
            ]
          },
          "metadata": {},
          "execution_count": 2
        }
      ]
    },
    {
      "cell_type": "markdown",
      "metadata": {
        "id": "1cfIKu4MKwBI"
      },
      "source": [
        "<h2><b> 1 : Cleaning Text"
      ]
    },
    {
      "cell_type": "markdown",
      "metadata": {
        "id": "LXeNIA7aKz6e"
      },
      "source": [
        "Cleaning merupakan step dimana data yang akan diolah harus dibersihkan terlebih dahulu. \n",
        "\n",
        "Data berupa tweets yang didapatkan dari twitter mengandung berbagai macam tipe informasi serta berbagai macam karakter spesial yang tidak diperlukan dalam proses analisis sentimen. Jika ditemukan data yang mengandung suatu link, maka akan dilakukan proses penghapusan URL. Selain itu, proses penghapusan juga dilakukan terhadap karakter spesial lainnya seperti hastag ataupun username dari suatu user (dituliskan @username)\n"
      ]
    },
    {
      "cell_type": "code",
      "metadata": {
        "colab": {
          "base_uri": "https://localhost:8080/",
          "height": 424
        },
        "id": "gPW9ZDJCD7Si",
        "outputId": "364867b4-a31c-44c2-c4fe-1f3cd85aca7e"
      },
      "source": [
        "import re\n",
        "# Define a function to clean the text\n",
        "def clean(text):\n",
        " # Removes all special characters and numericals leaving the alphabets\n",
        " text = re.sub(r\"http\\S+\", \"\", text) # menghilangkan URL gambar\n",
        " text = re.sub('@[^\\s]+','',text) # menghilangkan mention username dalam tweets\n",
        " text = re.sub(\"@[A-Za-z0-9]+\",\"\",text) \n",
        " text = re.sub('[^A-Za-z]+', ' ', text) #menghilangkan simbol dan karakter spesial yang bukan huruf/angka\n",
        "\n",
        " return text\n",
        "# Cleaning the text in the review column\n",
        "mydata['Cleaned Reviews'] = mydata['tweet'].apply(clean) #membuat kolom baru yang bernama 'Cleaned Reviews'\n",
        "mydata"
      ],
      "execution_count": null,
      "outputs": [
        {
          "output_type": "execute_result",
          "data": {
            "text/html": [
              "<div>\n",
              "<style scoped>\n",
              "    .dataframe tbody tr th:only-of-type {\n",
              "        vertical-align: middle;\n",
              "    }\n",
              "\n",
              "    .dataframe tbody tr th {\n",
              "        vertical-align: top;\n",
              "    }\n",
              "\n",
              "    .dataframe thead th {\n",
              "        text-align: right;\n",
              "    }\n",
              "</style>\n",
              "<table border=\"1\" class=\"dataframe\">\n",
              "  <thead>\n",
              "    <tr style=\"text-align: right;\">\n",
              "      <th></th>\n",
              "      <th>tweet</th>\n",
              "      <th>Cleaned Reviews</th>\n",
              "    </tr>\n",
              "  </thead>\n",
              "  <tbody>\n",
              "    <tr>\n",
              "      <th>0</th>\n",
              "      <td>#tolakruu_ikn  https://t.co/TSsynqbBFM</td>\n",
              "      <td>tolakruu ikn</td>\n",
              "    </tr>\n",
              "    <tr>\n",
              "      <th>1</th>\n",
              "      <td>Jika sumber daya manusia di suatu negara berku...</td>\n",
              "      <td>Jika sumber daya manusia di suatu negara berku...</td>\n",
              "    </tr>\n",
              "    <tr>\n",
              "      <th>2</th>\n",
              "      <td>#TolakRUU_IKN  https://t.co/inISfLLuRe</td>\n",
              "      <td>TolakRUU IKN</td>\n",
              "    </tr>\n",
              "    <tr>\n",
              "      <th>3</th>\n",
              "      <td>Saya perhatiin, kalo kita googling tentang doa...</td>\n",
              "      <td>Saya perhatiin kalo kita googling tentang doa ...</td>\n",
              "    </tr>\n",
              "    <tr>\n",
              "      <th>4</th>\n",
              "      <td>@kusmayadi2409 @c1nt4_2l2 @wierboy @BunnyPosit...</td>\n",
              "      <td>Ttp kompak sesama oposisi TolakRUU IKN</td>\n",
              "    </tr>\n",
              "    <tr>\n",
              "      <th>...</th>\n",
              "      <td>...</td>\n",
              "      <td>...</td>\n",
              "    </tr>\n",
              "    <tr>\n",
              "      <th>309</th>\n",
              "      <td>@212ujee2A @DzauZie @RadjaDjawa @Raksa_I3ander...</td>\n",
              "      <td>Leres TolakRUU IKN TolakRUU IKN</td>\n",
              "    </tr>\n",
              "    <tr>\n",
              "      <th>310</th>\n",
              "      <td>Masyarakat Papua Bantah Tuduhan Kuasa Hukum Lu...</td>\n",
              "      <td>Masyarakat Papua Bantah Tuduhan Kuasa Hukum Lu...</td>\n",
              "    </tr>\n",
              "    <tr>\n",
              "      <th>311</th>\n",
              "      <td>@UtomoAdi23 @DzauZie @RadjaDjawa @Raksa_I3ande...</td>\n",
              "      <td>Mun dilembur ngaranna Bakiak Mun di kota slop...</td>\n",
              "    </tr>\n",
              "    <tr>\n",
              "      <th>312</th>\n",
              "      <td>@DzauZie Hmmmm... Kira kira istana ikut pindah...</td>\n",
              "      <td>Hmmmm Kira kira istana ikut pindah nggak yaa ...</td>\n",
              "    </tr>\n",
              "    <tr>\n",
              "      <th>313</th>\n",
              "      <td>@212ujee2A @DzauZie @RadjaDjawa @Raksa_I3ander...</td>\n",
              "      <td>Hahaha Iya atuh TolakRUU IKN TolakRUU IKN</td>\n",
              "    </tr>\n",
              "  </tbody>\n",
              "</table>\n",
              "<p>314 rows × 2 columns</p>\n",
              "</div>"
            ],
            "text/plain": [
              "                                                 tweet                                    Cleaned Reviews\n",
              "0               #tolakruu_ikn  https://t.co/TSsynqbBFM                                      tolakruu ikn \n",
              "1    Jika sumber daya manusia di suatu negara berku...  Jika sumber daya manusia di suatu negara berku...\n",
              "2               #TolakRUU_IKN  https://t.co/inISfLLuRe                                      TolakRUU IKN \n",
              "3    Saya perhatiin, kalo kita googling tentang doa...  Saya perhatiin kalo kita googling tentang doa ...\n",
              "4    @kusmayadi2409 @c1nt4_2l2 @wierboy @BunnyPosit...             Ttp kompak sesama oposisi TolakRUU IKN\n",
              "..                                                 ...                                                ...\n",
              "309  @212ujee2A @DzauZie @RadjaDjawa @Raksa_I3ander...                    Leres TolakRUU IKN TolakRUU IKN\n",
              "310  Masyarakat Papua Bantah Tuduhan Kuasa Hukum Lu...  Masyarakat Papua Bantah Tuduhan Kuasa Hukum Lu...\n",
              "311  @UtomoAdi23 @DzauZie @RadjaDjawa @Raksa_I3ande...   Mun dilembur ngaranna Bakiak Mun di kota slop...\n",
              "312  @DzauZie Hmmmm... Kira kira istana ikut pindah...   Hmmmm Kira kira istana ikut pindah nggak yaa ...\n",
              "313  @212ujee2A @DzauZie @RadjaDjawa @Raksa_I3ander...          Hahaha Iya atuh TolakRUU IKN TolakRUU IKN\n",
              "\n",
              "[314 rows x 2 columns]"
            ]
          },
          "metadata": {},
          "execution_count": 3
        }
      ]
    },
    {
      "cell_type": "markdown",
      "metadata": {
        "id": "2zna2twQLAGT"
      },
      "source": [
        "<h2> <b> 2-4: Tokenization, POS tagging, stopwords removal"
      ]
    },
    {
      "cell_type": "markdown",
      "metadata": {
        "id": "eBmdOBglLFdr"
      },
      "source": [
        "\n",
        "- Tokenization adalah proses pemecahan teks \n",
        "dari sebuah kalimat menjadi potongan-potongan \n",
        "kata \n",
        "- POS Tagging merupakan kata yang telah dilabelisasi kelas kata berdasarkan kamus besar bahasa Indonesia. Dalam \n",
        "proses POS tagger dilakukan dengan cara parsing, kemudian ditentukan kelas tiap kata dengan \n",
        "menggunakan bantuan kamus yang di buat sendiri berdasarkan Kamus Besar Bahasa Indonesia \n",
        "(KBBI) menggunakan metode Maximum Entropy. Proses POS tagging terbagi ke dalam tiga \n",
        "proses yaitu pemisahan setiap token dalam dokumen dengan pengecekan setiap kata dalam \n",
        "dokumen, mengidentifikasi setiap kata dalam dokumen dengan pemberian jenis kata, pengecekan \n",
        "kata yang belum teridentifikasi terhadap bentuk imbuhan dan akhiran sehingga diperoleh kata \n",
        "dasar. \n",
        "- Stopword removal merupakan proses \n",
        "penghapusan kata-kata yang dianggap kurang/tidak\n",
        "memiliki makna untuk mempengaruhi sentimen. \n",
        "Kata-kata yang dimaksud seperti “yang”, “di”, \n",
        "“dan”, “pada”, dan sebagainya.\n",
        "\n",
        "\n",
        "\n",
        "Natural Language Toolkit atau disingkat NLTK, adalah libray python untuk bekerja dengan permodelan teks. NLTK menyediakan tools yang baik mempersiapkan teks sebelum digunakan pada machine learning atau algoritma deep learning"
      ]
    },
    {
      "cell_type": "code",
      "metadata": {
        "colab": {
          "base_uri": "https://localhost:8080/"
        },
        "id": "jZmT9ZVGD9il",
        "outputId": "8156fa27-e727-41e5-d25e-8baf7f08fa86"
      },
      "source": [
        "pip install nltk\n"
      ],
      "execution_count": null,
      "outputs": [
        {
          "output_type": "stream",
          "name": "stdout",
          "text": [
            "Requirement already satisfied: nltk in /usr/local/lib/python3.7/dist-packages (3.2.5)\n",
            "Requirement already satisfied: six in /usr/local/lib/python3.7/dist-packages (from nltk) (1.15.0)\n"
          ]
        }
      ]
    },
    {
      "cell_type": "code",
      "metadata": {
        "colab": {
          "base_uri": "https://localhost:8080/",
          "height": 362
        },
        "id": "jfqNH5JSD_1H",
        "outputId": "b70d2889-c2d7-4db9-bdcf-9d59eb640f2f"
      },
      "source": [
        "import nltk\n",
        "nltk.download('punkt')\n",
        "nltk.download('averaged_perceptron_tagger')\n",
        "from nltk.tokenize import word_tokenize\n",
        "from nltk import pos_tag\n",
        "nltk.download('stopwords')\n",
        "from nltk.corpus import stopwords\n",
        "nltk.download('wordnet')\n",
        "from nltk.corpus import wordnet\n",
        "# POS tagger dictionary\n",
        "pos_dict = {'J':wordnet.ADJ, 'V':wordnet.VERB, 'N':wordnet.NOUN, 'R':wordnet.ADV}\n",
        "def token_stop_pos(text):\n",
        "  tags = pos_tag(word_tokenize(text))\n",
        "  newlist = []\n",
        "  for word, tag in tags:\n",
        "    if word.lower() not in set(stopwords.words('english')):\n",
        "      newlist.append(tuple([word, pos_dict.get(tag[0])]))\n",
        "  return newlist\n",
        "  \n",
        "mydata['POS tagged'] = mydata['Cleaned Reviews'].apply(token_stop_pos)\n",
        "mydata.head()\n",
        "# mydata['POS tagged'][0]"
      ],
      "execution_count": null,
      "outputs": [
        {
          "output_type": "stream",
          "name": "stdout",
          "text": [
            "[nltk_data] Downloading package punkt to /root/nltk_data...\n",
            "[nltk_data]   Unzipping tokenizers/punkt.zip.\n",
            "[nltk_data] Downloading package averaged_perceptron_tagger to\n",
            "[nltk_data]     /root/nltk_data...\n",
            "[nltk_data]   Unzipping taggers/averaged_perceptron_tagger.zip.\n",
            "[nltk_data] Downloading package stopwords to /root/nltk_data...\n",
            "[nltk_data]   Unzipping corpora/stopwords.zip.\n",
            "[nltk_data] Downloading package wordnet to /root/nltk_data...\n",
            "[nltk_data]   Unzipping corpora/wordnet.zip.\n"
          ]
        },
        {
          "output_type": "execute_result",
          "data": {
            "text/html": [
              "<div>\n",
              "<style scoped>\n",
              "    .dataframe tbody tr th:only-of-type {\n",
              "        vertical-align: middle;\n",
              "    }\n",
              "\n",
              "    .dataframe tbody tr th {\n",
              "        vertical-align: top;\n",
              "    }\n",
              "\n",
              "    .dataframe thead th {\n",
              "        text-align: right;\n",
              "    }\n",
              "</style>\n",
              "<table border=\"1\" class=\"dataframe\">\n",
              "  <thead>\n",
              "    <tr style=\"text-align: right;\">\n",
              "      <th></th>\n",
              "      <th>tweet</th>\n",
              "      <th>Cleaned Reviews</th>\n",
              "      <th>POS tagged</th>\n",
              "    </tr>\n",
              "  </thead>\n",
              "  <tbody>\n",
              "    <tr>\n",
              "      <th>0</th>\n",
              "      <td>#tolakruu_ikn  https://t.co/TSsynqbBFM</td>\n",
              "      <td>tolakruu ikn</td>\n",
              "      <td>[(tolakruu, n), (ikn, n)]</td>\n",
              "    </tr>\n",
              "    <tr>\n",
              "      <th>1</th>\n",
              "      <td>Jika sumber daya manusia di suatu negara berku...</td>\n",
              "      <td>Jika sumber daya manusia di suatu negara berku...</td>\n",
              "      <td>[(Jika, n), (sumber, n), (daya, n), (manusia, ...</td>\n",
              "    </tr>\n",
              "    <tr>\n",
              "      <th>2</th>\n",
              "      <td>#TolakRUU_IKN  https://t.co/inISfLLuRe</td>\n",
              "      <td>TolakRUU IKN</td>\n",
              "      <td>[(TolakRUU, n), (IKN, n)]</td>\n",
              "    </tr>\n",
              "    <tr>\n",
              "      <th>3</th>\n",
              "      <td>Saya perhatiin, kalo kita googling tentang doa...</td>\n",
              "      <td>Saya perhatiin kalo kita googling tentang doa ...</td>\n",
              "      <td>[(Saya, n), (perhatiin, n), (kalo, n), (kita, ...</td>\n",
              "    </tr>\n",
              "    <tr>\n",
              "      <th>4</th>\n",
              "      <td>@kusmayadi2409 @c1nt4_2l2 @wierboy @BunnyPosit...</td>\n",
              "      <td>Ttp kompak sesama oposisi TolakRUU IKN</td>\n",
              "      <td>[(Ttp, n), (kompak, v), (sesama, a), (oposisi,...</td>\n",
              "    </tr>\n",
              "  </tbody>\n",
              "</table>\n",
              "</div>"
            ],
            "text/plain": [
              "                                               tweet  ...                                         POS tagged\n",
              "0             #tolakruu_ikn  https://t.co/TSsynqbBFM  ...                          [(tolakruu, n), (ikn, n)]\n",
              "1  Jika sumber daya manusia di suatu negara berku...  ...  [(Jika, n), (sumber, n), (daya, n), (manusia, ...\n",
              "2             #TolakRUU_IKN  https://t.co/inISfLLuRe  ...                          [(TolakRUU, n), (IKN, n)]\n",
              "3  Saya perhatiin, kalo kita googling tentang doa...  ...  [(Saya, n), (perhatiin, n), (kalo, n), (kita, ...\n",
              "4  @kusmayadi2409 @c1nt4_2l2 @wierboy @BunnyPosit...  ...  [(Ttp, n), (kompak, v), (sesama, a), (oposisi,...\n",
              "\n",
              "[5 rows x 3 columns]"
            ]
          },
          "metadata": {},
          "execution_count": 5
        }
      ]
    },
    {
      "cell_type": "markdown",
      "metadata": {
        "id": "-GvZdm-_LMjB"
      },
      "source": [
        "<h2><b>5: Obtaining the stem words"
      ]
    },
    {
      "cell_type": "markdown",
      "metadata": {
        "id": "rIV5RjDeLO_G"
      },
      "source": [
        "<h3> <b> Lemmatization"
      ]
    },
    {
      "cell_type": "markdown",
      "metadata": {
        "id": "lKk-1lTMLSyy"
      },
      "source": [
        "Lemmatization adalah pengubahan kata-kata menjadi \n",
        "kata dasarnya"
      ]
    },
    {
      "cell_type": "code",
      "metadata": {
        "colab": {
          "base_uri": "https://localhost:8080/",
          "height": 206
        },
        "id": "IOrVEEZVECEu",
        "outputId": "0eda076d-dede-45ad-add4-c990108daf1f"
      },
      "source": [
        "from nltk.stem import WordNetLemmatizer\n",
        "wordnet_lemmatizer = WordNetLemmatizer()\n",
        "def lemmatize(pos_data):\n",
        " lemma_rew = \" \"\n",
        " for word, pos in pos_data:\n",
        "  if not pos:\n",
        "    lemma = word\n",
        "    lemma_rew = lemma_rew + \" \" + lemma\n",
        "  else:\n",
        "    lemma = wordnet_lemmatizer.lemmatize(word, pos=pos)\n",
        "    lemma_rew = lemma_rew + \" \" + lemma\n",
        " return lemma_rew\n",
        "\n",
        "mydata['Lemma'] = mydata['POS tagged'].apply(lemmatize)\n",
        "mydata.head()\n",
        "# print(mydata['review'][239] + \"\\n\" + mydata['Lemma'][239])"
      ],
      "execution_count": null,
      "outputs": [
        {
          "output_type": "execute_result",
          "data": {
            "text/html": [
              "<div>\n",
              "<style scoped>\n",
              "    .dataframe tbody tr th:only-of-type {\n",
              "        vertical-align: middle;\n",
              "    }\n",
              "\n",
              "    .dataframe tbody tr th {\n",
              "        vertical-align: top;\n",
              "    }\n",
              "\n",
              "    .dataframe thead th {\n",
              "        text-align: right;\n",
              "    }\n",
              "</style>\n",
              "<table border=\"1\" class=\"dataframe\">\n",
              "  <thead>\n",
              "    <tr style=\"text-align: right;\">\n",
              "      <th></th>\n",
              "      <th>tweet</th>\n",
              "      <th>Cleaned Reviews</th>\n",
              "      <th>POS tagged</th>\n",
              "      <th>Lemma</th>\n",
              "    </tr>\n",
              "  </thead>\n",
              "  <tbody>\n",
              "    <tr>\n",
              "      <th>0</th>\n",
              "      <td>#tolakruu_ikn  https://t.co/TSsynqbBFM</td>\n",
              "      <td>tolakruu ikn</td>\n",
              "      <td>[(tolakruu, n), (ikn, n)]</td>\n",
              "      <td>tolakruu ikn</td>\n",
              "    </tr>\n",
              "    <tr>\n",
              "      <th>1</th>\n",
              "      <td>Jika sumber daya manusia di suatu negara berku...</td>\n",
              "      <td>Jika sumber daya manusia di suatu negara berku...</td>\n",
              "      <td>[(Jika, n), (sumber, n), (daya, n), (manusia, ...</td>\n",
              "      <td>Jika sumber daya manusia di suatu negara ber...</td>\n",
              "    </tr>\n",
              "    <tr>\n",
              "      <th>2</th>\n",
              "      <td>#TolakRUU_IKN  https://t.co/inISfLLuRe</td>\n",
              "      <td>TolakRUU IKN</td>\n",
              "      <td>[(TolakRUU, n), (IKN, n)]</td>\n",
              "      <td>TolakRUU IKN</td>\n",
              "    </tr>\n",
              "    <tr>\n",
              "      <th>3</th>\n",
              "      <td>Saya perhatiin, kalo kita googling tentang doa...</td>\n",
              "      <td>Saya perhatiin kalo kita googling tentang doa ...</td>\n",
              "      <td>[(Saya, n), (perhatiin, n), (kalo, n), (kita, ...</td>\n",
              "      <td>Saya perhatiin kalo kita google tentang doa ...</td>\n",
              "    </tr>\n",
              "    <tr>\n",
              "      <th>4</th>\n",
              "      <td>@kusmayadi2409 @c1nt4_2l2 @wierboy @BunnyPosit...</td>\n",
              "      <td>Ttp kompak sesama oposisi TolakRUU IKN</td>\n",
              "      <td>[(Ttp, n), (kompak, v), (sesama, a), (oposisi,...</td>\n",
              "      <td>Ttp kompak sesama oposisi TolakRUU IKN</td>\n",
              "    </tr>\n",
              "  </tbody>\n",
              "</table>\n",
              "</div>"
            ],
            "text/plain": [
              "                                               tweet  ...                                              Lemma\n",
              "0             #tolakruu_ikn  https://t.co/TSsynqbBFM  ...                                       tolakruu ikn\n",
              "1  Jika sumber daya manusia di suatu negara berku...  ...    Jika sumber daya manusia di suatu negara ber...\n",
              "2             #TolakRUU_IKN  https://t.co/inISfLLuRe  ...                                       TolakRUU IKN\n",
              "3  Saya perhatiin, kalo kita googling tentang doa...  ...    Saya perhatiin kalo kita google tentang doa ...\n",
              "4  @kusmayadi2409 @c1nt4_2l2 @wierboy @BunnyPosit...  ...             Ttp kompak sesama oposisi TolakRUU IKN\n",
              "\n",
              "[5 rows x 4 columns]"
            ]
          },
          "metadata": {},
          "execution_count": 6
        }
      ]
    },
    {
      "cell_type": "code",
      "metadata": {
        "colab": {
          "base_uri": "https://localhost:8080/",
          "height": 424
        },
        "id": "ue2aBbWLEEpN",
        "outputId": "1c1b30e3-ff9a-495d-845c-6fc7690b2092"
      },
      "source": [
        "mydata[['tweet', 'Lemma']]"
      ],
      "execution_count": null,
      "outputs": [
        {
          "output_type": "execute_result",
          "data": {
            "text/html": [
              "<div>\n",
              "<style scoped>\n",
              "    .dataframe tbody tr th:only-of-type {\n",
              "        vertical-align: middle;\n",
              "    }\n",
              "\n",
              "    .dataframe tbody tr th {\n",
              "        vertical-align: top;\n",
              "    }\n",
              "\n",
              "    .dataframe thead th {\n",
              "        text-align: right;\n",
              "    }\n",
              "</style>\n",
              "<table border=\"1\" class=\"dataframe\">\n",
              "  <thead>\n",
              "    <tr style=\"text-align: right;\">\n",
              "      <th></th>\n",
              "      <th>tweet</th>\n",
              "      <th>Lemma</th>\n",
              "    </tr>\n",
              "  </thead>\n",
              "  <tbody>\n",
              "    <tr>\n",
              "      <th>0</th>\n",
              "      <td>#tolakruu_ikn  https://t.co/TSsynqbBFM</td>\n",
              "      <td>tolakruu ikn</td>\n",
              "    </tr>\n",
              "    <tr>\n",
              "      <th>1</th>\n",
              "      <td>Jika sumber daya manusia di suatu negara berku...</td>\n",
              "      <td>Jika sumber daya manusia di suatu negara ber...</td>\n",
              "    </tr>\n",
              "    <tr>\n",
              "      <th>2</th>\n",
              "      <td>#TolakRUU_IKN  https://t.co/inISfLLuRe</td>\n",
              "      <td>TolakRUU IKN</td>\n",
              "    </tr>\n",
              "    <tr>\n",
              "      <th>3</th>\n",
              "      <td>Saya perhatiin, kalo kita googling tentang doa...</td>\n",
              "      <td>Saya perhatiin kalo kita google tentang doa ...</td>\n",
              "    </tr>\n",
              "    <tr>\n",
              "      <th>4</th>\n",
              "      <td>@kusmayadi2409 @c1nt4_2l2 @wierboy @BunnyPosit...</td>\n",
              "      <td>Ttp kompak sesama oposisi TolakRUU IKN</td>\n",
              "    </tr>\n",
              "    <tr>\n",
              "      <th>...</th>\n",
              "      <td>...</td>\n",
              "      <td>...</td>\n",
              "    </tr>\n",
              "    <tr>\n",
              "      <th>309</th>\n",
              "      <td>@212ujee2A @DzauZie @RadjaDjawa @Raksa_I3ander...</td>\n",
              "      <td>Leres TolakRUU IKN TolakRUU IKN</td>\n",
              "    </tr>\n",
              "    <tr>\n",
              "      <th>310</th>\n",
              "      <td>Masyarakat Papua Bantah Tuduhan Kuasa Hukum Lu...</td>\n",
              "      <td>Masyarakat Papua Bantah Tuduhan Kuasa Hukum ...</td>\n",
              "    </tr>\n",
              "    <tr>\n",
              "      <th>311</th>\n",
              "      <td>@UtomoAdi23 @DzauZie @RadjaDjawa @Raksa_I3ande...</td>\n",
              "      <td>Mun dilembur ngaranna Bakiak Mun di kota slo...</td>\n",
              "    </tr>\n",
              "    <tr>\n",
              "      <th>312</th>\n",
              "      <td>@DzauZie Hmmmm... Kira kira istana ikut pindah...</td>\n",
              "      <td>Hmmmm Kira kira istana ikut pindah nggak yaa...</td>\n",
              "    </tr>\n",
              "    <tr>\n",
              "      <th>313</th>\n",
              "      <td>@212ujee2A @DzauZie @RadjaDjawa @Raksa_I3ander...</td>\n",
              "      <td>Hahaha Iya atuh TolakRUU IKN TolakRUU IKN</td>\n",
              "    </tr>\n",
              "  </tbody>\n",
              "</table>\n",
              "<p>314 rows × 2 columns</p>\n",
              "</div>"
            ],
            "text/plain": [
              "                                                 tweet                                              Lemma\n",
              "0               #tolakruu_ikn  https://t.co/TSsynqbBFM                                       tolakruu ikn\n",
              "1    Jika sumber daya manusia di suatu negara berku...    Jika sumber daya manusia di suatu negara ber...\n",
              "2               #TolakRUU_IKN  https://t.co/inISfLLuRe                                       TolakRUU IKN\n",
              "3    Saya perhatiin, kalo kita googling tentang doa...    Saya perhatiin kalo kita google tentang doa ...\n",
              "4    @kusmayadi2409 @c1nt4_2l2 @wierboy @BunnyPosit...             Ttp kompak sesama oposisi TolakRUU IKN\n",
              "..                                                 ...                                                ...\n",
              "309  @212ujee2A @DzauZie @RadjaDjawa @Raksa_I3ander...                    Leres TolakRUU IKN TolakRUU IKN\n",
              "310  Masyarakat Papua Bantah Tuduhan Kuasa Hukum Lu...    Masyarakat Papua Bantah Tuduhan Kuasa Hukum ...\n",
              "311  @UtomoAdi23 @DzauZie @RadjaDjawa @Raksa_I3ande...    Mun dilembur ngaranna Bakiak Mun di kota slo...\n",
              "312  @DzauZie Hmmmm... Kira kira istana ikut pindah...    Hmmmm Kira kira istana ikut pindah nggak yaa...\n",
              "313  @212ujee2A @DzauZie @RadjaDjawa @Raksa_I3ander...          Hahaha Iya atuh TolakRUU IKN TolakRUU IKN\n",
              "\n",
              "[314 rows x 2 columns]"
            ]
          },
          "metadata": {},
          "execution_count": 7
        }
      ]
    },
    {
      "cell_type": "markdown",
      "metadata": {
        "id": "aup6XlyWEJ4s"
      },
      "source": [
        "<h2><b> 6 : Labeling data using TextBlob"
      ]
    },
    {
      "cell_type": "code",
      "metadata": {
        "colab": {
          "base_uri": "https://localhost:8080/"
        },
        "id": "s3aZKNCJEPgx",
        "outputId": "31bf69d7-4680-4243-f0c2-8b2a99fb0f36"
      },
      "source": [
        "pip install textblob"
      ],
      "execution_count": null,
      "outputs": [
        {
          "output_type": "stream",
          "name": "stdout",
          "text": [
            "Requirement already satisfied: textblob in /usr/local/lib/python3.7/dist-packages (0.15.3)\n",
            "Requirement already satisfied: nltk>=3.1 in /usr/local/lib/python3.7/dist-packages (from textblob) (3.2.5)\n",
            "Requirement already satisfied: six in /usr/local/lib/python3.7/dist-packages (from nltk>=3.1->textblob) (1.15.0)\n"
          ]
        }
      ]
    },
    {
      "cell_type": "code",
      "metadata": {
        "id": "_Y1h3gEMH7JV"
      },
      "source": [
        "from textblob import TextBlob\n",
        "# function to calculate subjectivity\n",
        "def getSubjectivity(review):\n",
        " return TextBlob(review).sentiment.subjectivity\n",
        "# function to calculate polarity\n",
        "def getPolarity(review):\n",
        " return TextBlob(review).sentiment.polarity\n",
        "# function to analyze the reviews\n",
        "def analysis(score):\n",
        " if score < 0:\n",
        "  return 'Negative'\n",
        " elif score == 0:\n",
        "  return 'Neutral'\n",
        " else:\n",
        "  return 'Positive'\n"
      ],
      "execution_count": null,
      "outputs": []
    },
    {
      "cell_type": "code",
      "metadata": {
        "id": "YIP0KcVkH9-a"
      },
      "source": [
        "fin_data = pd.DataFrame(mydata[['tweet', 'Lemma']])"
      ],
      "execution_count": null,
      "outputs": []
    },
    {
      "cell_type": "code",
      "metadata": {
        "colab": {
          "base_uri": "https://localhost:8080/",
          "height": 206
        },
        "id": "SUXF6G6TIG8m",
        "outputId": "17c9f719-f31b-443a-e073-d688f0480b5d"
      },
      "source": [
        "# fin_data['Subjectivity'] = fin_data['Lemma'].apply(getSubjectivity)\n",
        "fin_data['Polarity'] = fin_data['Lemma'].apply(getPolarity)\n",
        "fin_data['Analysis'] = fin_data['Polarity'].apply(analysis)\n",
        "fin_data.head()"
      ],
      "execution_count": null,
      "outputs": [
        {
          "output_type": "execute_result",
          "data": {
            "text/html": [
              "<div>\n",
              "<style scoped>\n",
              "    .dataframe tbody tr th:only-of-type {\n",
              "        vertical-align: middle;\n",
              "    }\n",
              "\n",
              "    .dataframe tbody tr th {\n",
              "        vertical-align: top;\n",
              "    }\n",
              "\n",
              "    .dataframe thead th {\n",
              "        text-align: right;\n",
              "    }\n",
              "</style>\n",
              "<table border=\"1\" class=\"dataframe\">\n",
              "  <thead>\n",
              "    <tr style=\"text-align: right;\">\n",
              "      <th></th>\n",
              "      <th>tweet</th>\n",
              "      <th>Lemma</th>\n",
              "      <th>Polarity</th>\n",
              "      <th>Analysis</th>\n",
              "    </tr>\n",
              "  </thead>\n",
              "  <tbody>\n",
              "    <tr>\n",
              "      <th>0</th>\n",
              "      <td>#tolakruu_ikn  https://t.co/TSsynqbBFM</td>\n",
              "      <td>tolakruu ikn</td>\n",
              "      <td>0.0</td>\n",
              "      <td>Neutral</td>\n",
              "    </tr>\n",
              "    <tr>\n",
              "      <th>1</th>\n",
              "      <td>Jika sumber daya manusia di suatu negara berku...</td>\n",
              "      <td>Jika sumber daya manusia di suatu negara ber...</td>\n",
              "      <td>0.0</td>\n",
              "      <td>Neutral</td>\n",
              "    </tr>\n",
              "    <tr>\n",
              "      <th>2</th>\n",
              "      <td>#TolakRUU_IKN  https://t.co/inISfLLuRe</td>\n",
              "      <td>TolakRUU IKN</td>\n",
              "      <td>0.0</td>\n",
              "      <td>Neutral</td>\n",
              "    </tr>\n",
              "    <tr>\n",
              "      <th>3</th>\n",
              "      <td>Saya perhatiin, kalo kita googling tentang doa...</td>\n",
              "      <td>Saya perhatiin kalo kita google tentang doa ...</td>\n",
              "      <td>0.0</td>\n",
              "      <td>Neutral</td>\n",
              "    </tr>\n",
              "    <tr>\n",
              "      <th>4</th>\n",
              "      <td>@kusmayadi2409 @c1nt4_2l2 @wierboy @BunnyPosit...</td>\n",
              "      <td>Ttp kompak sesama oposisi TolakRUU IKN</td>\n",
              "      <td>0.0</td>\n",
              "      <td>Neutral</td>\n",
              "    </tr>\n",
              "  </tbody>\n",
              "</table>\n",
              "</div>"
            ],
            "text/plain": [
              "                                               tweet  ... Analysis\n",
              "0             #tolakruu_ikn  https://t.co/TSsynqbBFM  ...  Neutral\n",
              "1  Jika sumber daya manusia di suatu negara berku...  ...  Neutral\n",
              "2             #TolakRUU_IKN  https://t.co/inISfLLuRe  ...  Neutral\n",
              "3  Saya perhatiin, kalo kita googling tentang doa...  ...  Neutral\n",
              "4  @kusmayadi2409 @c1nt4_2l2 @wierboy @BunnyPosit...  ...  Neutral\n",
              "\n",
              "[5 rows x 4 columns]"
            ]
          },
          "metadata": {},
          "execution_count": 59
        }
      ]
    },
    {
      "cell_type": "code",
      "metadata": {
        "colab": {
          "base_uri": "https://localhost:8080/"
        },
        "id": "fdJ5R9IeIKPH",
        "outputId": "d79608be-5953-4ae2-f096-0349caac85e5"
      },
      "source": [
        "tb_counts = fin_data.Analysis.value_counts()\n",
        "tb_counts\n"
      ],
      "execution_count": null,
      "outputs": [
        {
          "output_type": "execute_result",
          "data": {
            "text/plain": [
              "Neutral     303\n",
              "Positive      9\n",
              "Negative      2\n",
              "Name: Analysis, dtype: int64"
            ]
          },
          "metadata": {},
          "execution_count": 60
        }
      ]
    },
    {
      "cell_type": "code",
      "metadata": {
        "colab": {
          "base_uri": "https://localhost:8080/",
          "height": 566
        },
        "id": "mu4Tj7jeINHA",
        "outputId": "2b8ada2f-41de-4ead-f2c3-f58cd4376850"
      },
      "source": [
        "import matplotlib.pyplot as plt\n",
        "%matplotlib inline\n",
        "tb_count= fin_data.Analysis.value_counts()\n",
        "plt.figure(figsize=(10, 7))\n",
        "plt.pie(tb_counts.values, labels = tb_counts.index, explode = (0, 0, 0.25), autopct='%.2f')\n",
        "#plt.legend()\n"
      ],
      "execution_count": null,
      "outputs": [
        {
          "output_type": "execute_result",
          "data": {
            "text/plain": [
              "([<matplotlib.patches.Wedge at 0x7fb1bd0a4a10>,\n",
              "  <matplotlib.patches.Wedge at 0x7fb1bd123fd0>,\n",
              "  <matplotlib.patches.Wedge at 0x7fb1bd123610>],\n",
              " [Text(-1.093344965605629, 0.1208171601422004, 'Neutral'),\n",
              "  Text(1.090708671178145, -0.1426695293915464, 'Positive'),\n",
              "  Text(1.3497297337802774, -0.02701195567562109, 'Negative')],\n",
              " [Text(-0.596369981239434, 0.06590026916847294, '96.50'),\n",
              "  Text(0.5949320024608064, -0.07781974330447984, '2.87'),\n",
              "  Text(0.8498298323801745, -0.017007527647613277, '0.64')])"
            ]
          },
          "metadata": {},
          "execution_count": 61
        },
        {
          "output_type": "display_data",
          "data": {
            "image/png": "[encoded data removed]",
            "text/plain": [
              "<Figure size 720x504 with 1 Axes>"
            ]
          },
          "metadata": {}
        }
      ]
    },
    {
      "cell_type": "markdown",
      "metadata": {
        "id": "H7t27_CgFBcV"
      },
      "source": [
        "<h3> <b>Analisis Using SVM"
      ]
    },
    {
      "cell_type": "code",
      "metadata": {
        "id": "-Gw71hhEEuqa"
      },
      "source": [
        "\n",
        "from flask import Flask, render_template, url_for\n",
        "import numpy as np\n",
        "import pandas as pd\n",
        "import csv\n",
        "import matplotlib.pyplot as plt\n",
        "from sklearn import model_selection\n",
        "from sklearn.model_selection import train_test_split\n",
        "from sklearn.feature_extraction.text import TfidfVectorizer\n",
        "from sklearn import svm\n",
        "from sklearn.metrics import accuracy_score\n",
        "\n",
        "# Packages for visuals\n",
        "import matplotlib.pyplot as plt\n",
        "import seaborn as sns; sns.set(font_scale=1.2)"
      ],
      "execution_count": null,
      "outputs": []
    },
    {
      "cell_type": "markdown",
      "metadata": {
        "id": "qf_TtYqyL4Hs"
      },
      "source": [
        "<h2><b>7 : Splitting Data training and Data testing"
      ]
    },
    {
      "cell_type": "code",
      "metadata": {
        "id": "2PTBcCYEFFRT"
      },
      "source": [
        "# Split into train and test data\n",
        "\n",
        "train_X, test_X, train_Y, test_Y = model_selection.train_test_split(fin_data['Lemma'], fin_data['Analysis'], test_size = 0.1, random_state = 0)\n",
        "# random_state = 0 menyatakan tidak ada pengacakan pada data yang di split yang artinya urutannya masih sama"
      ],
      "execution_count": null,
      "outputs": []
    },
    {
      "cell_type": "code",
      "metadata": {
        "id": "SoWpDsyYFUFe"
      },
      "source": [
        "\n",
        "df_train90 = pd.DataFrame()\n",
        "df_train90['Lemma'] = train_X\n",
        "df_train90['Analysis'] = train_Y\n",
        "\n",
        "df_test10 = pd.DataFrame()\n",
        "df_test10['Lemma'] = test_X\n",
        "df_test10['Analysis'] = test_Y"
      ],
      "execution_count": null,
      "outputs": []
    },
    {
      "cell_type": "code",
      "metadata": {
        "colab": {
          "base_uri": "https://localhost:8080/",
          "height": 424
        },
        "id": "LW-yGNlmFW2e",
        "outputId": "2ec6b5df-3496-4c81-ae7b-4eb885c78c8e"
      },
      "source": [
        "df_train90"
      ],
      "execution_count": null,
      "outputs": [
        {
          "output_type": "execute_result",
          "data": {
            "text/html": [
              "<div>\n",
              "<style scoped>\n",
              "    .dataframe tbody tr th:only-of-type {\n",
              "        vertical-align: middle;\n",
              "    }\n",
              "\n",
              "    .dataframe tbody tr th {\n",
              "        vertical-align: top;\n",
              "    }\n",
              "\n",
              "    .dataframe thead th {\n",
              "        text-align: right;\n",
              "    }\n",
              "</style>\n",
              "<table border=\"1\" class=\"dataframe\">\n",
              "  <thead>\n",
              "    <tr style=\"text-align: right;\">\n",
              "      <th></th>\n",
              "      <th>Lemma</th>\n",
              "      <th>Analysis</th>\n",
              "    </tr>\n",
              "  </thead>\n",
              "  <tbody>\n",
              "    <tr>\n",
              "      <th>164</th>\n",
              "      <td>TolakRUU IKN TolakRUU IKN Jumatan dulu kita</td>\n",
              "      <td>Neutral</td>\n",
              "    </tr>\n",
              "    <tr>\n",
              "      <th>240</th>\n",
              "      <td>Semoga PKS tetap bersama rakyat TolakRUU IKN</td>\n",
              "      <td>Neutral</td>\n",
              "    </tr>\n",
              "    <tr>\n",
              "      <th>124</th>\n",
              "      <td>marah terpuji dlm agama mksd anda agama apa ...</td>\n",
              "      <td>Neutral</td>\n",
              "    </tr>\n",
              "    <tr>\n",
              "      <th>230</th>\n",
              "      <td>Aamiinn TolakRUU IKN</td>\n",
              "      <td>Neutral</td>\n",
              "    </tr>\n",
              "    <tr>\n",
              "      <th>129</th>\n",
              "      <td>Dimasa depan Indonesia dengan Ibukota Negara...</td>\n",
              "      <td>Neutral</td>\n",
              "    </tr>\n",
              "    <tr>\n",
              "      <th>...</th>\n",
              "      <td>...</td>\n",
              "      <td>...</td>\n",
              "    </tr>\n",
              "    <tr>\n",
              "      <th>251</th>\n",
              "      <td>Begitu jelas dari awal pun sdh diusahakan di...</td>\n",
              "      <td>Neutral</td>\n",
              "    </tr>\n",
              "    <tr>\n",
              "      <th>192</th>\n",
              "      <td>Hadiah Hiburan Dan Acak Bayar Bonus Deposit ...</td>\n",
              "      <td>Neutral</td>\n",
              "    </tr>\n",
              "    <tr>\n",
              "      <th>117</th>\n",
              "      <td>TolakRUU IKN TolakRUU IKN</td>\n",
              "      <td>Neutral</td>\n",
              "    </tr>\n",
              "    <tr>\n",
              "      <th>47</th>\n",
              "      <td>Aamiinn TolakRUU IKN</td>\n",
              "      <td>Neutral</td>\n",
              "    </tr>\n",
              "    <tr>\n",
              "      <th>172</th>\n",
              "      <td>Ini pa bangeut waktunya perut dah naggih Tol...</td>\n",
              "      <td>Neutral</td>\n",
              "    </tr>\n",
              "  </tbody>\n",
              "</table>\n",
              "<p>282 rows × 2 columns</p>\n",
              "</div>"
            ],
            "text/plain": [
              "                                                 Lemma Analysis\n",
              "164        TolakRUU IKN TolakRUU IKN Jumatan dulu kita  Neutral\n",
              "240       Semoga PKS tetap bersama rakyat TolakRUU IKN  Neutral\n",
              "124    marah terpuji dlm agama mksd anda agama apa ...  Neutral\n",
              "230                               Aamiinn TolakRUU IKN  Neutral\n",
              "129    Dimasa depan Indonesia dengan Ibukota Negara...  Neutral\n",
              "..                                                 ...      ...\n",
              "251    Begitu jelas dari awal pun sdh diusahakan di...  Neutral\n",
              "192    Hadiah Hiburan Dan Acak Bayar Bonus Deposit ...  Neutral\n",
              "117                          TolakRUU IKN TolakRUU IKN  Neutral\n",
              "47                                Aamiinn TolakRUU IKN  Neutral\n",
              "172    Ini pa bangeut waktunya perut dah naggih Tol...  Neutral\n",
              "\n",
              "[282 rows x 2 columns]"
            ]
          },
          "metadata": {},
          "execution_count": 65
        }
      ]
    },
    {
      "cell_type": "code",
      "metadata": {
        "colab": {
          "base_uri": "https://localhost:8080/",
          "height": 1000
        },
        "id": "8Cer-l0bFY0-",
        "outputId": "975472eb-1ec2-49a1-a1c6-c216df0789c7"
      },
      "source": [
        "df_test10"
      ],
      "execution_count": null,
      "outputs": [
        {
          "output_type": "execute_result",
          "data": {
            "text/html": [
              "<div>\n",
              "<style scoped>\n",
              "    .dataframe tbody tr th:only-of-type {\n",
              "        vertical-align: middle;\n",
              "    }\n",
              "\n",
              "    .dataframe tbody tr th {\n",
              "        vertical-align: top;\n",
              "    }\n",
              "\n",
              "    .dataframe thead th {\n",
              "        text-align: right;\n",
              "    }\n",
              "</style>\n",
              "<table border=\"1\" class=\"dataframe\">\n",
              "  <thead>\n",
              "    <tr style=\"text-align: right;\">\n",
              "      <th></th>\n",
              "      <th>Lemma</th>\n",
              "      <th>Analysis</th>\n",
              "    </tr>\n",
              "  </thead>\n",
              "  <tbody>\n",
              "    <tr>\n",
              "      <th>65</th>\n",
              "      <td>Iyaa TolakRUU IKN TolakRUU IKN</td>\n",
              "      <td>Neutral</td>\n",
              "    </tr>\n",
              "    <tr>\n",
              "      <th>313</th>\n",
              "      <td>Hahaha Iya atuh TolakRUU IKN TolakRUU IKN</td>\n",
              "      <td>Positive</td>\n",
              "    </tr>\n",
              "    <tr>\n",
              "      <th>150</th>\n",
              "      <td>Lupa lupa ingat TolakRUU IKN TolakRUU IKN</td>\n",
              "      <td>Neutral</td>\n",
              "    </tr>\n",
              "    <tr>\n",
              "      <th>158</th>\n",
              "      <td>Pemimpin yang ruwet akan menghasilkan aturan...</td>\n",
              "      <td>Neutral</td>\n",
              "    </tr>\n",
              "    <tr>\n",
              "      <th>108</th>\n",
              "      <td>Pinjol itu salah satu bentuk ngeRIBAnget Tol...</td>\n",
              "      <td>Neutral</td>\n",
              "    </tr>\n",
              "    <tr>\n",
              "      <th>275</th>\n",
              "      <td>Siang kang U maaf telat hadir TolakRUU IKN T...</td>\n",
              "      <td>Neutral</td>\n",
              "    </tr>\n",
              "    <tr>\n",
              "      <th>135</th>\n",
              "      <td>Tancap Gass TolakRUU IKN TolakRUU IKN</td>\n",
              "      <td>Neutral</td>\n",
              "    </tr>\n",
              "    <tr>\n",
              "      <th>116</th>\n",
              "      <td>Aduh ada yg nyubit Smoga masih bisa TolakRUU...</td>\n",
              "      <td>Neutral</td>\n",
              "    </tr>\n",
              "    <tr>\n",
              "      <th>74</th>\n",
              "      <td>Bukan prioritas TolakRUU IKN TolakRUU IKN</td>\n",
              "      <td>Neutral</td>\n",
              "    </tr>\n",
              "    <tr>\n",
              "      <th>262</th>\n",
              "      <td>Gass poll broo TolakRUU IKN TolakRUU IKN</td>\n",
              "      <td>Neutral</td>\n",
              "    </tr>\n",
              "    <tr>\n",
              "      <th>26</th>\n",
              "      <td>PANCA SILA HARUSNYA DI AMALKAN Menteri yg te...</td>\n",
              "      <td>Neutral</td>\n",
              "    </tr>\n",
              "    <tr>\n",
              "      <th>261</th>\n",
              "      <td>Ayooo pd nyusul TolakRUU IKN TolakRUU IKN</td>\n",
              "      <td>Neutral</td>\n",
              "    </tr>\n",
              "    <tr>\n",
              "      <th>52</th>\n",
              "      <td>TolakRUU IKN TolakRUU IKN</td>\n",
              "      <td>Neutral</td>\n",
              "    </tr>\n",
              "    <tr>\n",
              "      <th>241</th>\n",
              "      <td>TolakRUU IKN</td>\n",
              "      <td>Neutral</td>\n",
              "    </tr>\n",
              "    <tr>\n",
              "      <th>152</th>\n",
              "      <td>TolakRUU IKN TolakRUU IKN</td>\n",
              "      <td>Neutral</td>\n",
              "    </tr>\n",
              "    <tr>\n",
              "      <th>133</th>\n",
              "      <td>Gass poll broo TolakRUU IKN TolakRUU IKN</td>\n",
              "      <td>Neutral</td>\n",
              "    </tr>\n",
              "    <tr>\n",
              "      <th>132</th>\n",
              "      <td>Ayooo pd nyusul TolakRUU IKN TolakRUU IKN</td>\n",
              "      <td>Neutral</td>\n",
              "    </tr>\n",
              "    <tr>\n",
              "      <th>250</th>\n",
              "      <td>Occee ikutan TolakRUU IKN TolakRUU IKN</td>\n",
              "      <td>Neutral</td>\n",
              "    </tr>\n",
              "    <tr>\n",
              "      <th>22</th>\n",
              "      <td>Bukan prioritas TolakRUU IKN TolakRUU IKN</td>\n",
              "      <td>Neutral</td>\n",
              "    </tr>\n",
              "    <tr>\n",
              "      <th>309</th>\n",
              "      <td>Leres TolakRUU IKN TolakRUU IKN</td>\n",
              "      <td>Neutral</td>\n",
              "    </tr>\n",
              "    <tr>\n",
              "      <th>252</th>\n",
              "      <td>TolakRUU IKN TolakRUU IKN</td>\n",
              "      <td>Neutral</td>\n",
              "    </tr>\n",
              "    <tr>\n",
              "      <th>56</th>\n",
              "      <td>TolakRUU IKN</td>\n",
              "      <td>Neutral</td>\n",
              "    </tr>\n",
              "    <tr>\n",
              "      <th>255</th>\n",
              "      <td>Siyaaap TolakRUU IKN TolakRUU IKN</td>\n",
              "      <td>Neutral</td>\n",
              "    </tr>\n",
              "    <tr>\n",
              "      <th>7</th>\n",
              "      <td>TolakRUU IKN</td>\n",
              "      <td>Neutral</td>\n",
              "    </tr>\n",
              "    <tr>\n",
              "      <th>145</th>\n",
              "      <td>mirip artis korea deh TolakRUU IKN</td>\n",
              "      <td>Neutral</td>\n",
              "    </tr>\n",
              "    <tr>\n",
              "      <th>15</th>\n",
              "      <td>TolakRUU IKN TolakRUU IKN</td>\n",
              "      <td>Neutral</td>\n",
              "    </tr>\n",
              "    <tr>\n",
              "      <th>101</th>\n",
              "      <td>Aamiinn TolakRUU IKN</td>\n",
              "      <td>Neutral</td>\n",
              "    </tr>\n",
              "    <tr>\n",
              "      <th>21</th>\n",
              "      <td>Bukan prioritas TolakRUU IKN TolakRUU IKN</td>\n",
              "      <td>Neutral</td>\n",
              "    </tr>\n",
              "    <tr>\n",
              "      <th>55</th>\n",
              "      <td>Jika sumber daya manusia di suatu negara ber...</td>\n",
              "      <td>Neutral</td>\n",
              "    </tr>\n",
              "    <tr>\n",
              "      <th>12</th>\n",
              "      <td>TolakRUU IKN TolakRUU IKN</td>\n",
              "      <td>Neutral</td>\n",
              "    </tr>\n",
              "    <tr>\n",
              "      <th>156</th>\n",
              "      <td>Hanya di guy TolakRUU IKN</td>\n",
              "      <td>Neutral</td>\n",
              "    </tr>\n",
              "    <tr>\n",
              "      <th>97</th>\n",
              "      <td>Dah di jagain mao kemana hayooo TolakRUU IKN...</td>\n",
              "      <td>Neutral</td>\n",
              "    </tr>\n",
              "  </tbody>\n",
              "</table>\n",
              "</div>"
            ],
            "text/plain": [
              "                                                 Lemma  Analysis\n",
              "65                      Iyaa TolakRUU IKN TolakRUU IKN   Neutral\n",
              "313          Hahaha Iya atuh TolakRUU IKN TolakRUU IKN  Positive\n",
              "150          Lupa lupa ingat TolakRUU IKN TolakRUU IKN   Neutral\n",
              "158    Pemimpin yang ruwet akan menghasilkan aturan...   Neutral\n",
              "108    Pinjol itu salah satu bentuk ngeRIBAnget Tol...   Neutral\n",
              "275    Siang kang U maaf telat hadir TolakRUU IKN T...   Neutral\n",
              "135              Tancap Gass TolakRUU IKN TolakRUU IKN   Neutral\n",
              "116    Aduh ada yg nyubit Smoga masih bisa TolakRUU...   Neutral\n",
              "74           Bukan prioritas TolakRUU IKN TolakRUU IKN   Neutral\n",
              "262           Gass poll broo TolakRUU IKN TolakRUU IKN   Neutral\n",
              "26     PANCA SILA HARUSNYA DI AMALKAN Menteri yg te...   Neutral\n",
              "261          Ayooo pd nyusul TolakRUU IKN TolakRUU IKN   Neutral\n",
              "52                           TolakRUU IKN TolakRUU IKN   Neutral\n",
              "241                                       TolakRUU IKN   Neutral\n",
              "152                          TolakRUU IKN TolakRUU IKN   Neutral\n",
              "133           Gass poll broo TolakRUU IKN TolakRUU IKN   Neutral\n",
              "132          Ayooo pd nyusul TolakRUU IKN TolakRUU IKN   Neutral\n",
              "250             Occee ikutan TolakRUU IKN TolakRUU IKN   Neutral\n",
              "22           Bukan prioritas TolakRUU IKN TolakRUU IKN   Neutral\n",
              "309                    Leres TolakRUU IKN TolakRUU IKN   Neutral\n",
              "252                          TolakRUU IKN TolakRUU IKN   Neutral\n",
              "56                                        TolakRUU IKN   Neutral\n",
              "255                  Siyaaap TolakRUU IKN TolakRUU IKN   Neutral\n",
              "7                                         TolakRUU IKN   Neutral\n",
              "145                 mirip artis korea deh TolakRUU IKN   Neutral\n",
              "15                           TolakRUU IKN TolakRUU IKN   Neutral\n",
              "101                               Aamiinn TolakRUU IKN   Neutral\n",
              "21           Bukan prioritas TolakRUU IKN TolakRUU IKN   Neutral\n",
              "55     Jika sumber daya manusia di suatu negara ber...   Neutral\n",
              "12                           TolakRUU IKN TolakRUU IKN   Neutral\n",
              "156                          Hanya di guy TolakRUU IKN   Neutral\n",
              "97     Dah di jagain mao kemana hayooo TolakRUU IKN...   Neutral"
            ]
          },
          "metadata": {},
          "execution_count": 66
        }
      ]
    },
    {
      "cell_type": "code",
      "metadata": {
        "id": "hTIp1e0AFbZY"
      },
      "source": [
        "df_train90.to_csv(r\"C:\\Users\\Asus\\Documents\\MATKUL ITTP\\SMT 7\\NLP\\Tugas Analisis Sentimen SVM\\df_train90.csv\")\n",
        "df_test10.to_csv(r\"C:\\Users\\Asus\\Documents\\MATKUL ITTP\\SMT 7\\NLP\\Tugas Analisis Sentimen SVM\\df_test10.csv\")"
      ],
      "execution_count": null,
      "outputs": []
    },
    {
      "cell_type": "markdown",
      "metadata": {
        "id": "epF-c82SMAT4"
      },
      "source": [
        "<h2><b>8 : Weighting (Pembobotan) menggunakan TF-IDF"
      ]
    },
    {
      "cell_type": "code",
      "metadata": {
        "id": "5Bl7Rc3bFdjl"
      },
      "source": [
        "# TF-IDF\n",
        "\n",
        "from sklearn.feature_extraction.text import TfidfVectorizer\n",
        "\n",
        "tfidf_vect_9010 = TfidfVectorizer(max_features = 5000)\n",
        "tfidf_vect_9010.fit(fin_data['Lemma'])\n",
        "train_X_tfidf_9010 = tfidf_vect_9010.transform(df_train90['Lemma'])\n",
        "test_X_tfidf_9010 = tfidf_vect_9010.transform(df_test10['Lemma'])"
      ],
      "execution_count": null,
      "outputs": []
    },
    {
      "cell_type": "code",
      "metadata": {
        "colab": {
          "base_uri": "https://localhost:8080/"
        },
        "id": "87KvaW6-FfVa",
        "outputId": "7f5d6830-155f-41c2-eafd-919e1cb9ed2a"
      },
      "source": [
        "tfidf_vect_9010"
      ],
      "execution_count": null,
      "outputs": [
        {
          "output_type": "execute_result",
          "data": {
            "text/plain": [
              "TfidfVectorizer(analyzer='word', binary=False, decode_error='strict',\n",
              "                dtype=<class 'numpy.float64'>, encoding='utf-8',\n",
              "                input='content', lowercase=True, max_df=1.0, max_features=5000,\n",
              "                min_df=1, ngram_range=(1, 1), norm='l2', preprocessor=None,\n",
              "                smooth_idf=True, stop_words=None, strip_accents=None,\n",
              "                sublinear_tf=False, token_pattern='(?u)\\\\b\\\\w\\\\w+\\\\b',\n",
              "                tokenizer=None, use_idf=True, vocabulary=None)"
            ]
          },
          "metadata": {},
          "execution_count": 69
        }
      ]
    },
    {
      "cell_type": "code",
      "metadata": {
        "colab": {
          "base_uri": "https://localhost:8080/"
        },
        "id": "s6Lo7vZvGC6j",
        "outputId": "7587a7f8-d8bc-4941-f4e8-ed125f67bd8b"
      },
      "source": [
        "\n",
        "print(train_X_tfidf_9010)"
      ],
      "execution_count": null,
      "outputs": [
        {
          "output_type": "stream",
          "name": "stdout",
          "text": [
            "  (0, 577)\t0.2271088102214004\n",
            "  (0, 280)\t0.5306546217407047\n",
            "  (0, 236)\t0.5458176995937857\n",
            "  (0, 213)\t0.2271088102214004\n",
            "  (0, 155)\t0.5633221883389801\n",
            "  (1, 577)\t0.08555283476303378\n",
            "  (1, 569)\t0.48371233559377125\n",
            "  (1, 513)\t0.42441162938886356\n",
            "  (1, 480)\t0.3214083430011803\n",
            "  (1, 467)\t0.48371233559377125\n",
            "  (1, 213)\t0.08555283476303378\n",
            "  (1, 76)\t0.48371233559377125\n",
            "  (2, 607)\t0.12230227722373158\n",
            "  (2, 591)\t0.1512892127842175\n",
            "  (2, 577)\t0.03612770362068859\n",
            "  (2, 566)\t0.20426460381361564\n",
            "  (2, 433)\t0.1512892127842175\n",
            "  (2, 372)\t0.20426460381361564\n",
            "  (2, 332)\t0.20426460381361564\n",
            "  (2, 309)\t0.20426460381361564\n",
            "  (2, 213)\t0.03612770362068859\n",
            "  (2, 185)\t0.1512892127842175\n",
            "  (2, 153)\t0.20426460381361564\n",
            "  (2, 146)\t0.16882949525830662\n",
            "  (2, 115)\t0.13396333867605534\n",
            "  :\t:\n",
            "  (278, 193)\t0.18985499326952174\n",
            "  (278, 188)\t0.18985499326952174\n",
            "  (278, 175)\t0.1755099348533912\n",
            "  (278, 125)\t0.18985499326952174\n",
            "  (278, 115)\t0.13118809900299994\n",
            "  (278, 110)\t0.18985499326952174\n",
            "  (278, 106)\t0.18985499326952174\n",
            "  (278, 91)\t0.5695649798085652\n",
            "  (278, 58)\t0.1755099348533912\n",
            "  (278, 4)\t0.18985499326952174\n",
            "  (278, 2)\t0.18985499326952174\n",
            "  (279, 577)\t0.7071067811865475\n",
            "  (279, 213)\t0.7071067811865475\n",
            "  (280, 577)\t0.18019643660709775\n",
            "  (280, 213)\t0.18019643660709775\n",
            "  (280, 1)\t0.9669842234846484\n",
            "  (281, 599)\t0.39233185506061186\n",
            "  (281, 577)\t0.13878125447048148\n",
            "  (281, 455)\t0.39233185506061186\n",
            "  (281, 416)\t0.3568853446196567\n",
            "  (281, 383)\t0.39233185506061186\n",
            "  (281, 220)\t0.31609845926158836\n",
            "  (281, 213)\t0.13878125447048148\n",
            "  (281, 111)\t0.3442339374352187\n",
            "  (281, 46)\t0.39233185506061186\n"
          ]
        }
      ]
    },
    {
      "cell_type": "code",
      "metadata": {
        "colab": {
          "base_uri": "https://localhost:8080/"
        },
        "id": "fDCRgRxGGF-2",
        "outputId": "0877c576-3bdd-43ed-fcba-c58823748dee"
      },
      "source": [
        "print(test_X_tfidf_9010)"
      ],
      "execution_count": null,
      "outputs": [
        {
          "output_type": "stream",
          "name": "stdout",
          "text": [
            "  (0, 577)\t0.32970393334170706\n",
            "  (0, 226)\t0.8846415277828723\n",
            "  (0, 213)\t0.32970393334170706\n",
            "  (1, 577)\t0.18399808240354262\n",
            "  (1, 225)\t0.5574613323940469\n",
            "  (1, 213)\t0.18399808240354262\n",
            "  (1, 190)\t0.5574613323940469\n",
            "  (1, 30)\t0.5574613323940469\n",
            "  (2, 577)\t0.1688746092239318\n",
            "  (2, 316)\t0.8685448671054035\n",
            "  (2, 218)\t0.43427243355270173\n",
            "  (2, 213)\t0.1688746092239318\n",
            "  (3, 607)\t0.13933159311500398\n",
            "  (3, 603)\t0.2041776909531191\n",
            "  (3, 596)\t0.2327063184137809\n",
            "  (3, 577)\t0.04115810936086553\n",
            "  (3, 490)\t0.6981189552413427\n",
            "  (3, 476)\t0.2116817015264879\n",
            "  (3, 442)\t0.2327063184137809\n",
            "  (3, 356)\t0.2041776909531191\n",
            "  (3, 215)\t0.2116817015264879\n",
            "  (3, 213)\t0.04115810936086553\n",
            "  (3, 115)\t0.15261633569254418\n",
            "  (3, 97)\t0.2327063184137809\n",
            "  (3, 32)\t0.2116817015264879\n",
            "  :\t:\n",
            "  (28, 118)\t0.3763907826349258\n",
            "  (28, 116)\t0.1881953913174629\n",
            "  (28, 115)\t0.13004132892630677\n",
            "  (28, 73)\t0.1881953913174629\n",
            "  (28, 48)\t0.1881953913174629\n",
            "  (28, 42)\t0.1881953913174629\n",
            "  (28, 39)\t0.1881953913174629\n",
            "  (28, 11)\t0.1881953913174629\n",
            "  (28, 10)\t0.15271854506046506\n",
            "  (28, 3)\t0.15271854506046506\n",
            "  (29, 577)\t0.7071067811865475\n",
            "  (29, 213)\t0.7071067811865475\n",
            "  (30, 577)\t0.12213559924953493\n",
            "  (30, 213)\t0.12213559924953493\n",
            "  (30, 191)\t0.5707556669215386\n",
            "  (30, 186)\t0.6905498354995995\n",
            "  (30, 127)\t0.4093222253437256\n",
            "  (31, 577)\t0.16151305273375632\n",
            "  (31, 331)\t0.4333619932255493\n",
            "  (31, 265)\t0.38816936609182107\n",
            "  (31, 227)\t0.4333619932255493\n",
            "  (31, 213)\t0.16151305273375632\n",
            "  (31, 198)\t0.4333619932255493\n",
            "  (31, 127)\t0.2706454243204255\n",
            "  (31, 111)\t0.4006180395317633\n"
          ]
        }
      ]
    },
    {
      "cell_type": "code",
      "metadata": {
        "colab": {
          "base_uri": "https://localhost:8080/"
        },
        "id": "VLz5uuiMGIxM",
        "outputId": "145fb4bc-6764-4c0f-ef23-5e6950823b92"
      },
      "source": [
        "print(train_X_tfidf_9010.shape)\n",
        "print(test_X_tfidf_9010.shape)"
      ],
      "execution_count": null,
      "outputs": [
        {
          "output_type": "stream",
          "name": "stdout",
          "text": [
            "(282, 608)\n",
            "(32, 608)\n"
          ]
        }
      ]
    },
    {
      "cell_type": "code",
      "metadata": {
        "colab": {
          "base_uri": "https://localhost:8080/"
        },
        "id": "uE7VKxuzGLIi",
        "outputId": "950df786-cba3-4330-9e0d-77e702270d62"
      },
      "source": [
        "\n",
        "# You can use the below syntax to see the vocabulary that it has learned from the corpus\n",
        "print(tfidf_vect_9010.vocabulary_)"
      ],
      "execution_count": null,
      "outputs": [
        {
          "output_type": "stream",
          "name": "stdout",
          "text": [
            "{'tolakruu': 577, 'ikn': 213, 'jika': 235, 'sumber': 544, 'daya': 118, 'manusia': 330, 'di': 127, 'suatu': 541, 'negara': 391, 'berkualitas': 73, 'tinggi': 575, 'sudah': 542, 'dapat': 116, 'dipastikan': 140, 'bahwa': 42, 'pengelolaan': 447, 'semua': 514, 'alam': 11, 'yang': 603, 'ada': 3, 'akan': 10, 'maksimal': 325, 'dan': 115, 'menghasilkan': 356, 'kesejahteraan': 273, 'bagi': 39, 'bangsa': 48, 'saya': 501, 'perhatiin': 452, 'kalo': 246, 'kita': 280, 'google': 178, 'tentang': 557, 'doa': 147, 'atau': 29, 'ibadah': 208, 'agama': 6, 'islam': 222, 'seperti': 516, 'sholat': 522, 'shunnah': 523, 'puasa': 475, 'sejenisnya': 509, 'kenapa': 268, 'hasilnya': 196, 'banyak': 53, 'keluar': 264, 'dari': 117, 'situs': 532, 'medium': 340, 'sekuler': 510, 'ya': 600, 'media': 339, 'dakwah': 112, 'pada': 417, 'kemana': 265, 'kalopun': 247, 'ngga': 397, 'dihalaman': 132, 'pertama': 453, 'ttp': 581, 'kompak': 286, 'sesama': 518, 'oposisi': 415, 'thanks': 570, 'brader': 95, 'masuk': 335, 'dalam': 113, 'gerbong': 173, 'hadiah': 188, 'hiburan': 204, 'acak': 2, 'bayar': 58, 'bonus': 91, 'deposit': 125, 'harian': 193, 'rp': 489, 'cashback': 106, 'add': 4, 'number': 402, 'sgp': 521, 'toto': 580, 'link': 313, 'daftar': 110, 'nasi': 388, 'padang': 418, 'luhut': 315, 'jumatberkah': 237, 'gerobaksayurmoeldoko': 175, 'iyaa': 226, 'klik': 281, 'bangsat': 49, 'kok': 285, 'memang': 341, 'teruslah': 568, 'berisik': 72, 'dikit': 136, 'demo': 121, 'ngambek': 393, 'bikin': 84, 'susah': 545, 'wah': 597, 'gelasih': 169, 'inimah': 221, 'bukan': 99, 'prioritas': 472, 'panca': 423, 'sila': 528, 'harusnya': 195, 'amalkan': 16, 'menteri': 358, 'yg': 607, 'terlibat': 563, 'ksus': 299, 'pandora': 426, 'paper': 429, 'amp': 17, 'koruptor': 295, 'merajalela': 363, 'bukti': 100, 'pejabat': 435, 'anggota': 20, 'dpr': 151, 'pancasilais': 425, 'oligarkisumberbencana': 413, 'setuju': 520, 'gus': 185, 'baha': 40, 'untuk': 591, 'pbnu': 433, 'done': 149, 'bozz': 93, 'semakin': 512, 'ngotot': 399, 'pindah': 463, 'ibukota': 211, 'teriakan': 562, 'mundur': 381, 'gencar': 172, 'segala': 506, 'penjuru': 449, 'ayo': 35, 'minta': 367, 'dalil': 114, 'dg': 126, 'kelompok': 263, 'banteng': 52, 'siluman': 529, 'bermata': 75, 'merah': 362, 'tahap': 548, 'kebijaksanaan': 259, 'ibu': 210, 'kota': 296, 'mpr': 376, 'bersidang': 77, 'mengeluarkan': 355, 'ketetapan': 276, 'penentuan': 446, 'pendapat': 444, 'rakyat': 480, 'atas': 28, 'pemindahan': 443, 'pemerintah': 440, 'mengadakan': 352, 'tapi': 553, 'bebaskan': 60, 'dulu': 155, 'wabah': 595, 'tdk': 554, 'diperlukan': 141, 'memperkuat': 346, 'ketahanan': 274, 'nasional': 389, 'dlm': 146, 'bidang': 83, 'utang': 592, 'meroket': 366, 'ekonomi': 157, 'morat': 374, 'marit': 333, 'menderita': 349, 'ulama': 590, 'kriminalisasi': 298, 'kezaliman': 278, 'kebohongan': 260, 'kemunafikan': 267, 'sedang': 505, 'bertahta': 78, 'semoga': 513, 'segera': 507, 'nyungsebb': 406, 'tumbang': 584, 'aamiin': 0, 'robbal': 488, 'alamiin': 12, 'gunawan': 181, 'gundul': 182, 'menawan': 348, 'bobi': 87, 'botak': 92, 'biadab': 82, 'nah': 384, 'klu': 283, 'apaan': 24, 'alhamdulillah': 14, 'gass': 167, 'poll': 468, 'gw': 187, 'demen': 120, 'nih': 401, 'saatnya': 492, 'berubah': 79, 'siti': 531, 'maemunah': 319, 'jurus': 239, 'bango': 47, 'maaf': 317, 'udin': 588, 'conge': 108, 'badak': 37, 'sakit': 495, 'hati': 197, 'mamat': 328, 'tompel': 579, 'langkah': 304, 'seribu': 517, 'koq': 292, 'luaran': 314, 'beseliweran': 81, 'macem': 318, 'tagar': 546, 'yak': 602, 'pusing': 477, 'pala': 422, 'barbie': 55, 'siyaap': 534, 'lanjutkan': 305, 'nambah': 386, 'gemuk': 170, 'aja': 9, 'dunkz': 156, 'rekeningnya': 483, 'dah': 111, 'jagain': 227, 'mao': 331, 'hayooo': 198, 'alasannya': 13, 'itu': 224, 'banjir': 50, 'hanya': 191, 'genangan': 171, 'tolskruu': 578, 'pake': 421, 'tang': 551, 'kaboooooor': 240, 'komunis': 287, 'gaya': 168, 'baru': 56, 'move': 375, 'kata': 254, 'guru': 184, 'besar': 80, 'ui': 589, 'ternyata': 564, 'benar': 65, 'oligarki': 412, 'menyebabkan': 360, 'demokrasi': 122, 'pancasila': 424, 'tersumbat': 567, 'teriak': 561, 'lapar': 306, 'wakil': 598, 'diem': 131, 'bae': 38, 'korupsi': 294, 'oknum': 410, 'belum': 63, 'berhenti': 71, 'terbukti': 559, 'sidang': 526, 'bisa': 85, 'atur': 31, 'kpk': 297, 'aamiinn': 1, 'sok': 537, 'bebas': 59, 'rabiulawwal': 478, 'kondapolam': 288, 'nice': 400, 'project': 473, 'mat': 337, 'petang': 456, 'jelang': 230, 'maghrib': 320, 'astagfirullah': 27, 'miris': 371, 'pisan': 465, 'kyai': 302, 'anus': 22, 'kebablasan': 257, 'ke': 255, 'gereja': 174, 'pinjol': 464, 'salah': 496, 'satu': 500, 'bentuk': 66, 'ngeribanget': 396, 'keren': 271, 'cari': 105, 'ibutiri': 212, 'pikiraneun': 461, 'kagak': 241, 'malah': 326, 'petingkah': 457, 'pks': 467, 'tetap': 569, 'bersama': 76, 'dibuat': 130, 'dengan': 123, 'bahan': 41, 'terbaik': 558, 'kaos': 251, 'kaki': 242, 'mendukung': 350, 'kenyamanan': 269, 'olahragamu': 411, 'bemsifokuskuliahaja': 64, 'happy': 192, 'ndbillkinday': 390, 'timnasday': 574, 'redakancoviddenganppkm': 482, 'kaoskaki': 252, 'kaoskakimotif': 253, 'puan': 474, 'maharani': 322, 'bermasalah': 74, 'ingatan': 219, 'jd': 229, 'pikun': 462, 'sebelum': 503, 'tua': 582, 'rada': 479, 'bodoh': 88, 'setelah': 519, 'bergelar': 70, 'dr': 152, 'hc': 200, 'ketua': 277, 'memangnya': 342, 'keterpilihan': 275, 'mrk': 377, 'mempunyai': 347, 'suara': 540, 'sama': 497, 'presiden': 470, 'pidato': 459, 'mengatasnamakan': 354, 'aduh': 5, 'nyubit': 405, 'smoga': 536, 'masih': 334, 'victor': 594, 'laskodat': 307, 'mengatas': 353, 'namakan': 385, 'pembuatan': 439, 'pidatonya': 460, 'maklum': 323, 'saja': 494, 'minus': 368, 'pengetahuan': 448, 'occee': 409, 'ikutan': 215, 'begitu': 62, 'jelas': 231, 'awal': 33, 'pun': 476, 'sdh': 502, 'diusahakan': 145, 'ditutup': 144, 'tutupi': 585, 'cara': 104, 'sehebat': 508, 'kebencian': 258, 'thd': 571, 'ibhrs': 209, 'harus': 194, 'merenggut': 365, 'nyawa': 404, 'tak': 549, 'berdosa': 68, 'marah': 332, 'terpuji': 566, 'mksd': 372, 'anda': 19, 'apa': 23, 'dukung': 153, 'lebih': 309, 'baik': 43, 'maybe': 338, 'yess': 604, 'know': 284, 'siyaaap': 533, 'pki': 466, 'busuk': 101, 'dimasa': 139, 'depan': 124, 'indonesia': 216, 'tercatat': 560, 'era': 159, 'siapa': 525, 'presidennya': 471, 'kalau': 243, 'bapak': 54, 'infrastruktur': 217, 'sih': 527, 'mungkin': 382, 'engga': 158, 'kali': 244, 'apalagi': 25, 'nanti': 387, 'dijualin': 134, 'jump': 238, 'ayooo': 36, 'pd': 434, 'nyusul': 407, 'broo': 96, 'pantang': 427, 'menyerah': 361, 'tancap': 550, 'jangan': 228, 'keras': 270, 'lah': 303, 'jgn': 234, 'tenaga': 556, 'jg': 233, 'kaliii': 245, 'sabar': 493, 'bang': 45, 'dikasihin': 135, 'sing': 530, 'pemberi': 438, 'barunya': 57, 'strategis': 539, 'utk': 593, 'obor': 408, 'para': 431, 'mementingkan': 344, 'golongan': 177, 'mereka': 364, 'tanpa': 552, 'berfikir': 69, 'masyarakat': 336, 'keadaan': 256, 'partai': 432, 'sampah': 499, 'selalu': 511, 'alihkan': 15, 'konsentrasi': 291, 'kemaren': 266, 'bongkarpandorapapers': 90, 'dialihkan': 129, 'gurem': 183, 'ngaruh': 395, 'ga': 165, 'mirip': 370, 'artis': 26, 'korea': 293, 'deh': 119, 'siang': 524, 'kang': 250, 'telat': 555, 'hadir': 189, 'ingat': 218, 'doong': 150, 'start': 538, 'konfoi': 290, 'mudah': 378, 'pantas': 428, 'menepuk': 351, 'air': 8, 'dulang': 154, 'terpercik': 565, 'muka': 379, 'sendiri': 515, 'lupa': 316, 'jelaslah': 232, 'lg': 312, 'sulit': 543, 'foya': 164, 'tmpt': 576, 'gk': 176, 'penting': 450, 'buk': 98, 'menkeu': 357, 'tiba': 573, 'pahlawan': 420, 'paham': 419, 'kan': 248, 'bong': 89, 'kedangkalan': 262, 'pemikiran': 441, 'rezim': 486, 'guy': 186, 'hayu': 199, 'hehe': 201, 'pemimpin': 442, 'ruwet': 490, 'aturan': 32, 'wacana': 596, 'anak': 18, 'buah': 97, 'membuat': 343, 'menutupi': 359, 'perbuat': 451, 'klo': 282, 'udh': 587, 'kebongkar': 261, 'br': 94, 'revisi': 485, 'udah': 586, 'gt': 179, 'konde': 289, 'ini': 220, 'memperjelas': 345, 'dirinya': 142, 'disain': 143, 'perumahan': 454, 'doang': 148, 'fasilitas': 163, 'pendukungnya': 445, 'agar': 7, 'layak': 308, 'sebut': 504, 'dia': 128, 'begini': 61, 'gue': 180, 'butuh': 102, 'dihatiku': 133, 'jumatan': 236, 'peuteuy': 458, 'mana': 329, 'euy': 162, 'bismillaah': 86, 'rame': 481, 'gas': 166, 'pool': 469, 'aya': 34, 'pa': 416, 'yeuh': 606, 'sa': 491, 'euncan': 161, 'nyalip': 403, 'ti': 572, 'heula': 203, 'mah': 321, 'pelanggaran': 436, 'kudu': 301, 'dilaporkeun': 137, 'yeu': 605, 'bangeut': 46, 'waktunya': 599, 'perut': 455, 'naggih': 383, 'kesalahannya': 272, 'hukumannya': 207, 'berat': 67, 'maling': 327, 'anjing': 21, 'pembenaran': 437, 'ringankan': 487, 'heuhhhhh': 202, 'ngabibita': 392, 'eta': 160, 'kancing': 249, 'levi': 311, 'sambel': 498, 'mirasa': 369, 'tah': 547, 'maksi': 324, 'cung': 109, 'leres': 310, 'papua': 430, 'bantah': 51, 'tuduhan': 583, 'kuasa': 300, 'hukum': 206, 'republika': 484, 'online': 414, 'mobile': 373, 'mun': 380, 'dilembur': 138, 'ngaranna': 394, 'bakiak': 44, 'slop': 535, 'ceunah': 107, 'hmmmm': 205, 'kira': 279, 'istana': 223, 'ikut': 214, 'nggak': 398, 'yaa': 601, 'buzzernya': 103, 'hahaha': 190, 'iya': 225, 'atuh': 30}\n"
          ]
        }
      ]
    },
    {
      "cell_type": "markdown",
      "metadata": {
        "id": "pTHaZQ6LMJtK"
      },
      "source": [
        "<h2><b>9 : Building Machine Learning Model (using SVM algorithm)"
      ]
    },
    {
      "cell_type": "code",
      "metadata": {
        "colab": {
          "base_uri": "https://localhost:8080/"
        },
        "id": "KI203IU8GNe1",
        "outputId": "98c62f23-b28a-4628-b72c-c809c2c2db2f"
      },
      "source": [
        "# Proses Pelatihan\n",
        "\n",
        "from sklearn.svm import SVC\n",
        "\n",
        "model = SVC(kernel='linear')\n",
        "model.fit(train_X_tfidf_9010,train_Y)"
      ],
      "execution_count": null,
      "outputs": [
        {
          "output_type": "execute_result",
          "data": {
            "text/plain": [
              "SVC(C=1.0, break_ties=False, cache_size=200, class_weight=None, coef0=0.0,\n",
              "    decision_function_shape='ovr', degree=3, gamma='scale', kernel='linear',\n",
              "    max_iter=-1, probability=False, random_state=None, shrinking=True,\n",
              "    tol=0.001, verbose=False)"
            ]
          },
          "metadata": {},
          "execution_count": 74
        }
      ]
    },
    {
      "cell_type": "markdown",
      "metadata": {
        "id": "4uXT5begMZJC"
      },
      "source": [
        "<h2><b>10 : Evaluation (pengujian)"
      ]
    },
    {
      "cell_type": "code",
      "metadata": {
        "id": "7-dU9FBNGPy9"
      },
      "source": [
        "# Proses Pengujian\n",
        "\n",
        "from sklearn.metrics import accuracy_score\n",
        "\n",
        "predictions_SVM_9010 = model.predict(test_X_tfidf_9010)\n",
        "test_prediction_9010 = pd.DataFrame()\n",
        "test_prediction_9010['Sentiment'] = test_X\n",
        "test_prediction_9010['Label'] = predictions_SVM_9010\n",
        "SVM_accuracy_9010 = accuracy_score(predictions_SVM_9010, test_Y)*100\n",
        "SVM_accuracy_9010 = round(SVM_accuracy_9010,1)"
      ],
      "execution_count": null,
      "outputs": []
    },
    {
      "cell_type": "code",
      "metadata": {
        "colab": {
          "base_uri": "https://localhost:8080/",
          "height": 1000
        },
        "id": "gKT0nQRZIlAX",
        "outputId": "11909f37-2e7b-4bb5-e3e4-ffc63f7e9433"
      },
      "source": [
        "\n",
        "test_prediction_9010"
      ],
      "execution_count": null,
      "outputs": [
        {
          "output_type": "execute_result",
          "data": {
            "text/html": [
              "<div>\n",
              "<style scoped>\n",
              "    .dataframe tbody tr th:only-of-type {\n",
              "        vertical-align: middle;\n",
              "    }\n",
              "\n",
              "    .dataframe tbody tr th {\n",
              "        vertical-align: top;\n",
              "    }\n",
              "\n",
              "    .dataframe thead th {\n",
              "        text-align: right;\n",
              "    }\n",
              "</style>\n",
              "<table border=\"1\" class=\"dataframe\">\n",
              "  <thead>\n",
              "    <tr style=\"text-align: right;\">\n",
              "      <th></th>\n",
              "      <th>Sentiment</th>\n",
              "      <th>Label</th>\n",
              "    </tr>\n",
              "  </thead>\n",
              "  <tbody>\n",
              "    <tr>\n",
              "      <th>65</th>\n",
              "      <td>Iyaa TolakRUU IKN TolakRUU IKN</td>\n",
              "      <td>Neutral</td>\n",
              "    </tr>\n",
              "    <tr>\n",
              "      <th>313</th>\n",
              "      <td>Hahaha Iya atuh TolakRUU IKN TolakRUU IKN</td>\n",
              "      <td>Neutral</td>\n",
              "    </tr>\n",
              "    <tr>\n",
              "      <th>150</th>\n",
              "      <td>Lupa lupa ingat TolakRUU IKN TolakRUU IKN</td>\n",
              "      <td>Neutral</td>\n",
              "    </tr>\n",
              "    <tr>\n",
              "      <th>158</th>\n",
              "      <td>Pemimpin yang ruwet akan menghasilkan aturan...</td>\n",
              "      <td>Neutral</td>\n",
              "    </tr>\n",
              "    <tr>\n",
              "      <th>108</th>\n",
              "      <td>Pinjol itu salah satu bentuk ngeRIBAnget Tol...</td>\n",
              "      <td>Neutral</td>\n",
              "    </tr>\n",
              "    <tr>\n",
              "      <th>275</th>\n",
              "      <td>Siang kang U maaf telat hadir TolakRUU IKN T...</td>\n",
              "      <td>Neutral</td>\n",
              "    </tr>\n",
              "    <tr>\n",
              "      <th>135</th>\n",
              "      <td>Tancap Gass TolakRUU IKN TolakRUU IKN</td>\n",
              "      <td>Neutral</td>\n",
              "    </tr>\n",
              "    <tr>\n",
              "      <th>116</th>\n",
              "      <td>Aduh ada yg nyubit Smoga masih bisa TolakRUU...</td>\n",
              "      <td>Neutral</td>\n",
              "    </tr>\n",
              "    <tr>\n",
              "      <th>74</th>\n",
              "      <td>Bukan prioritas TolakRUU IKN TolakRUU IKN</td>\n",
              "      <td>Neutral</td>\n",
              "    </tr>\n",
              "    <tr>\n",
              "      <th>262</th>\n",
              "      <td>Gass poll broo TolakRUU IKN TolakRUU IKN</td>\n",
              "      <td>Neutral</td>\n",
              "    </tr>\n",
              "    <tr>\n",
              "      <th>26</th>\n",
              "      <td>PANCA SILA HARUSNYA DI AMALKAN Menteri yg te...</td>\n",
              "      <td>Neutral</td>\n",
              "    </tr>\n",
              "    <tr>\n",
              "      <th>261</th>\n",
              "      <td>Ayooo pd nyusul TolakRUU IKN TolakRUU IKN</td>\n",
              "      <td>Neutral</td>\n",
              "    </tr>\n",
              "    <tr>\n",
              "      <th>52</th>\n",
              "      <td>TolakRUU IKN TolakRUU IKN</td>\n",
              "      <td>Neutral</td>\n",
              "    </tr>\n",
              "    <tr>\n",
              "      <th>241</th>\n",
              "      <td>TolakRUU IKN</td>\n",
              "      <td>Neutral</td>\n",
              "    </tr>\n",
              "    <tr>\n",
              "      <th>152</th>\n",
              "      <td>TolakRUU IKN TolakRUU IKN</td>\n",
              "      <td>Neutral</td>\n",
              "    </tr>\n",
              "    <tr>\n",
              "      <th>133</th>\n",
              "      <td>Gass poll broo TolakRUU IKN TolakRUU IKN</td>\n",
              "      <td>Neutral</td>\n",
              "    </tr>\n",
              "    <tr>\n",
              "      <th>132</th>\n",
              "      <td>Ayooo pd nyusul TolakRUU IKN TolakRUU IKN</td>\n",
              "      <td>Neutral</td>\n",
              "    </tr>\n",
              "    <tr>\n",
              "      <th>250</th>\n",
              "      <td>Occee ikutan TolakRUU IKN TolakRUU IKN</td>\n",
              "      <td>Neutral</td>\n",
              "    </tr>\n",
              "    <tr>\n",
              "      <th>22</th>\n",
              "      <td>Bukan prioritas TolakRUU IKN TolakRUU IKN</td>\n",
              "      <td>Neutral</td>\n",
              "    </tr>\n",
              "    <tr>\n",
              "      <th>309</th>\n",
              "      <td>Leres TolakRUU IKN TolakRUU IKN</td>\n",
              "      <td>Neutral</td>\n",
              "    </tr>\n",
              "    <tr>\n",
              "      <th>252</th>\n",
              "      <td>TolakRUU IKN TolakRUU IKN</td>\n",
              "      <td>Neutral</td>\n",
              "    </tr>\n",
              "    <tr>\n",
              "      <th>56</th>\n",
              "      <td>TolakRUU IKN</td>\n",
              "      <td>Neutral</td>\n",
              "    </tr>\n",
              "    <tr>\n",
              "      <th>255</th>\n",
              "      <td>Siyaaap TolakRUU IKN TolakRUU IKN</td>\n",
              "      <td>Neutral</td>\n",
              "    </tr>\n",
              "    <tr>\n",
              "      <th>7</th>\n",
              "      <td>TolakRUU IKN</td>\n",
              "      <td>Neutral</td>\n",
              "    </tr>\n",
              "    <tr>\n",
              "      <th>145</th>\n",
              "      <td>mirip artis korea deh TolakRUU IKN</td>\n",
              "      <td>Neutral</td>\n",
              "    </tr>\n",
              "    <tr>\n",
              "      <th>15</th>\n",
              "      <td>TolakRUU IKN TolakRUU IKN</td>\n",
              "      <td>Neutral</td>\n",
              "    </tr>\n",
              "    <tr>\n",
              "      <th>101</th>\n",
              "      <td>Aamiinn TolakRUU IKN</td>\n",
              "      <td>Neutral</td>\n",
              "    </tr>\n",
              "    <tr>\n",
              "      <th>21</th>\n",
              "      <td>Bukan prioritas TolakRUU IKN TolakRUU IKN</td>\n",
              "      <td>Neutral</td>\n",
              "    </tr>\n",
              "    <tr>\n",
              "      <th>55</th>\n",
              "      <td>Jika sumber daya manusia di suatu negara ber...</td>\n",
              "      <td>Neutral</td>\n",
              "    </tr>\n",
              "    <tr>\n",
              "      <th>12</th>\n",
              "      <td>TolakRUU IKN TolakRUU IKN</td>\n",
              "      <td>Neutral</td>\n",
              "    </tr>\n",
              "    <tr>\n",
              "      <th>156</th>\n",
              "      <td>Hanya di guy TolakRUU IKN</td>\n",
              "      <td>Neutral</td>\n",
              "    </tr>\n",
              "    <tr>\n",
              "      <th>97</th>\n",
              "      <td>Dah di jagain mao kemana hayooo TolakRUU IKN...</td>\n",
              "      <td>Neutral</td>\n",
              "    </tr>\n",
              "  </tbody>\n",
              "</table>\n",
              "</div>"
            ],
            "text/plain": [
              "                                             Sentiment    Label\n",
              "65                      Iyaa TolakRUU IKN TolakRUU IKN  Neutral\n",
              "313          Hahaha Iya atuh TolakRUU IKN TolakRUU IKN  Neutral\n",
              "150          Lupa lupa ingat TolakRUU IKN TolakRUU IKN  Neutral\n",
              "158    Pemimpin yang ruwet akan menghasilkan aturan...  Neutral\n",
              "108    Pinjol itu salah satu bentuk ngeRIBAnget Tol...  Neutral\n",
              "275    Siang kang U maaf telat hadir TolakRUU IKN T...  Neutral\n",
              "135              Tancap Gass TolakRUU IKN TolakRUU IKN  Neutral\n",
              "116    Aduh ada yg nyubit Smoga masih bisa TolakRUU...  Neutral\n",
              "74           Bukan prioritas TolakRUU IKN TolakRUU IKN  Neutral\n",
              "262           Gass poll broo TolakRUU IKN TolakRUU IKN  Neutral\n",
              "26     PANCA SILA HARUSNYA DI AMALKAN Menteri yg te...  Neutral\n",
              "261          Ayooo pd nyusul TolakRUU IKN TolakRUU IKN  Neutral\n",
              "52                           TolakRUU IKN TolakRUU IKN  Neutral\n",
              "241                                       TolakRUU IKN  Neutral\n",
              "152                          TolakRUU IKN TolakRUU IKN  Neutral\n",
              "133           Gass poll broo TolakRUU IKN TolakRUU IKN  Neutral\n",
              "132          Ayooo pd nyusul TolakRUU IKN TolakRUU IKN  Neutral\n",
              "250             Occee ikutan TolakRUU IKN TolakRUU IKN  Neutral\n",
              "22           Bukan prioritas TolakRUU IKN TolakRUU IKN  Neutral\n",
              "309                    Leres TolakRUU IKN TolakRUU IKN  Neutral\n",
              "252                          TolakRUU IKN TolakRUU IKN  Neutral\n",
              "56                                        TolakRUU IKN  Neutral\n",
              "255                  Siyaaap TolakRUU IKN TolakRUU IKN  Neutral\n",
              "7                                         TolakRUU IKN  Neutral\n",
              "145                 mirip artis korea deh TolakRUU IKN  Neutral\n",
              "15                           TolakRUU IKN TolakRUU IKN  Neutral\n",
              "101                               Aamiinn TolakRUU IKN  Neutral\n",
              "21           Bukan prioritas TolakRUU IKN TolakRUU IKN  Neutral\n",
              "55     Jika sumber daya manusia di suatu negara ber...  Neutral\n",
              "12                           TolakRUU IKN TolakRUU IKN  Neutral\n",
              "156                          Hanya di guy TolakRUU IKN  Neutral\n",
              "97     Dah di jagain mao kemana hayooo TolakRUU IKN...  Neutral"
            ]
          },
          "metadata": {},
          "execution_count": 76
        }
      ]
    },
    {
      "cell_type": "code",
      "metadata": {
        "id": "Y_-2HRM-InJp"
      },
      "source": [
        "test_prediction_9010.to_csv(r\"C:\\Users\\Asus\\Documents\\MATKUL ITTP\\SMT 7\\NLP\\Tugas Analisis Sentimen SVM\\test_prediction_9010.csv\")"
      ],
      "execution_count": null,
      "outputs": []
    },
    {
      "cell_type": "markdown",
      "metadata": {
        "id": "RbfPvrwKMi78"
      },
      "source": [
        ""
      ]
    },
    {
      "cell_type": "code",
      "metadata": {
        "colab": {
          "base_uri": "https://localhost:8080/"
        },
        "id": "IQL5mXpLIqh1",
        "outputId": "f63bfe7d-138f-4a06-e869-c64b735052fe"
      },
      "source": [
        "SVM_accuracy_9010"
      ],
      "execution_count": null,
      "outputs": [
        {
          "output_type": "execute_result",
          "data": {
            "text/plain": [
              "96.9"
            ]
          },
          "metadata": {},
          "execution_count": 78
        }
      ]
    },
    {
      "cell_type": "code",
      "metadata": {
        "colab": {
          "base_uri": "https://localhost:8080/"
        },
        "id": "C_jfNJc1IsKJ",
        "outputId": "1b0cb682-a8e0-4963-a193-e34997ea6020"
      },
      "source": [
        "# Accuracy, Precision, Recall, f1-score\n",
        "\n",
        "from sklearn.metrics import classification_report\n",
        "\n",
        "print (\"\\nHere is the classification report:\") \n",
        "print (classification_report(test_Y, predictions_SVM_9010))"
      ],
      "execution_count": null,
      "outputs": [
        {
          "output_type": "stream",
          "name": "stdout",
          "text": [
            "\n",
            "Here is the classification report:\n",
            "              precision    recall  f1-score   support\n",
            "\n",
            "     Neutral       0.97      1.00      0.98        31\n",
            "    Positive       0.00      0.00      0.00         1\n",
            "\n",
            "    accuracy                           0.97        32\n",
            "   macro avg       0.48      0.50      0.49        32\n",
            "weighted avg       0.94      0.97      0.95        32\n",
            "\n"
          ]
        },
        {
          "output_type": "stream",
          "name": "stderr",
          "text": [
            "/usr/local/lib/python3.7/dist-packages/sklearn/metrics/_classification.py:1272: UndefinedMetricWarning: Precision and F-score are ill-defined and being set to 0.0 in labels with no predicted samples. Use `zero_division` parameter to control this behavior.\n",
            "  _warn_prf(average, modifier, msg_start, len(result))\n"
          ]
        }
      ]
    },
    {
      "cell_type": "code",
      "metadata": {
        "colab": {
          "base_uri": "https://localhost:8080/",
          "height": 306
        },
        "id": "FJGcEy-iOPtT",
        "outputId": "9b732c26-5dae-4626-b743-f7c10a3310ff"
      },
      "source": [
        "#Bar plot for bipolar reviews for Train Set\n",
        "\n",
        "labels = ['Positive','Negative', 'Neutral']\n",
        "Category1 = [8, 2, 272]\n",
        "plt.bar(labels, Category1, tick_label=labels, width=0.5, color=['coral', 'c'])\n",
        "plt.xlabel('Kelas Sentimen')\n",
        "plt.ylabel('Data')\n",
        "plt.title('Diagram Bar Data Analisis Sentimen')\n",
        "plt.savefig(r\"C:\\Users\\Asus\\Documents\\MATKUL ITTP\\SMT 7\\NLP\\Tugas Analisis Sentimen SVM\\bar_data.png\")\n",
        "plt.show()"
      ],
      "execution_count": null,
      "outputs": [
        {
          "output_type": "display_data",
          "data": {
            "image/png": "[encoded data removed]",
            "text/plain": [
              "<Figure size 432x288 with 1 Axes>"
            ]
          },
          "metadata": {}
        }
      ]
    },
    {
      "cell_type": "code",
      "metadata": {
        "id": "NGBHPfYGQJeE"
      },
      "source": [
        ""
      ],
      "execution_count": null,
      "outputs": []
    }
  ]
}